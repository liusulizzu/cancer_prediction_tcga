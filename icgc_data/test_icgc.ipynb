{
 "cells": [
  {
   "cell_type": "code",
   "execution_count": 2,
   "id": "c57d622f-4825-43ed-ba8e-a91aea2b0f2e",
   "metadata": {},
   "outputs": [],
   "source": [
    "import pandas as pd"
   ]
  },
  {
   "cell_type": "code",
   "execution_count": null,
   "id": "5b2c1e60-3782-4996-8e05-a0be2a4dd1f8",
   "metadata": {},
   "outputs": [],
   "source": [
    "df = pd.read_csv('exp_seq.LUAD-US.tsv', sep='\\t')"
   ]
  },
  {
   "cell_type": "code",
   "execution_count": null,
   "id": "eaa678d3-5aec-4eac-aa8d-be536690ddc3",
   "metadata": {},
   "outputs": [],
   "source": [
    "len(df['icgc_sample_id'].unique())"
   ]
  },
  {
   "cell_type": "code",
   "execution_count": null,
   "id": "8c485563-e62c-443d-b149-65bd248e6be3",
   "metadata": {},
   "outputs": [],
   "source": [
    "df['reference_sample_type']"
   ]
  },
  {
   "cell_type": "code",
   "execution_count": null,
   "id": "ab894814-2150-4cc0-a50f-f492842ee5f3",
   "metadata": {},
   "outputs": [],
   "source": [
    "df.columns"
   ]
  },
  {
   "cell_type": "code",
   "execution_count": null,
   "id": "451081a2-a07c-4bd0-9377-bd19934b2ebc",
   "metadata": {},
   "outputs": [],
   "source": [
    "pd.set_option('display.max_columns', None)"
   ]
  },
  {
   "cell_type": "code",
   "execution_count": null,
   "id": "f7d73f0c-4343-4177-826a-a40c1b643e0f",
   "metadata": {},
   "outputs": [],
   "source": [
    "df.head()"
   ]
  },
  {
   "cell_type": "code",
   "execution_count": null,
   "id": "fca95760-4506-457e-9bfc-51d3a3f2e373",
   "metadata": {},
   "outputs": [],
   "source": [
    "df1 = df[['submitted_sample_id', 'gene_id', 'raw_read_count']]"
   ]
  },
  {
   "cell_type": "code",
   "execution_count": null,
   "id": "75c36e80-4c2f-415f-8d69-d7a4252d0ab5",
   "metadata": {},
   "outputs": [],
   "source": [
    "df1.head()"
   ]
  },
  {
   "cell_type": "code",
   "execution_count": null,
   "id": "62cfee82-3453-44e3-94de-ad6bbf8e4e62",
   "metadata": {},
   "outputs": [],
   "source": [
    "df1.to_csv('icgc_data/icgc_origin.csv')"
   ]
  },
  {
   "cell_type": "code",
   "execution_count": null,
   "id": "c869e2de-dd50-4d99-9b45-d8b69e096043",
   "metadata": {},
   "outputs": [],
   "source": [
    "df_final = pd.DataFrame()"
   ]
  },
  {
   "cell_type": "code",
   "execution_count": null,
   "id": "b6af13c4-3084-42c1-b889-e8b70fb060c2",
   "metadata": {},
   "outputs": [],
   "source": [
    "sample_ids = df1['submitted_sample_id'].unique()"
   ]
  },
  {
   "cell_type": "code",
   "execution_count": null,
   "id": "02d91a40-ab34-45df-a711-7d356e7c8c45",
   "metadata": {},
   "outputs": [],
   "source": [
    "df_final['sample_id'] = sample_ids"
   ]
  },
  {
   "cell_type": "code",
   "execution_count": null,
   "id": "742c3328-aa68-4292-928c-b1bfcd72f6cf",
   "metadata": {},
   "outputs": [],
   "source": [
    "df1[df1['submitted_sample_id'] == 'TCGA-53-7813-01A-11R-2170-07']"
   ]
  },
  {
   "cell_type": "code",
   "execution_count": null,
   "id": "e9e9677f-54c0-41f3-88e5-c63983004c87",
   "metadata": {},
   "outputs": [],
   "source": [
    "df_final.loc[df_final['sample_id'] == 'TCGA-53-7813-01A-11R-2170-07', 'age'] = 1"
   ]
  },
  {
   "cell_type": "code",
   "execution_count": null,
   "id": "f1937761-33f5-466d-a99e-1066820f312e",
   "metadata": {},
   "outputs": [],
   "source": [
    "x = df1[(df1['submitted_sample_id'] == 'TCGA-53-7813-01A-11R-2170-07') &  (df1['gene_id'] == 'YIPF2')]['raw_read_count']"
   ]
  },
  {
   "cell_type": "code",
   "execution_count": null,
   "id": "209dd545-4d16-4f6e-829e-b4588a4ee17b",
   "metadata": {},
   "outputs": [],
   "source": [
    "df_final.loc[df_final['sample_id'] == 'TCGA-53-7813-01A-11R-2170-07', 'ff'] = x.values[0]"
   ]
  },
  {
   "cell_type": "code",
   "execution_count": null,
   "id": "7d9d8fe6-1783-4ed3-adf4-0e75ecab885c",
   "metadata": {},
   "outputs": [],
   "source": [
    "df1 = pd.read_csv('icgc_data/icgc_origin.csv', index_col='Unnamed: 0')"
   ]
  },
  {
   "cell_type": "code",
   "execution_count": null,
   "id": "0af565d6-264c-4b0d-93be-79c8ff4a82b9",
   "metadata": {},
   "outputs": [],
   "source": [
    "df1.head()"
   ]
  },
  {
   "cell_type": "code",
   "execution_count": null,
   "id": "a7e81f67-1eea-42c3-aa21-db169d0cef4c",
   "metadata": {},
   "outputs": [],
   "source": [
    "def preProcessData(df):\n",
    "    # df 代表原始数据；需要处理成\n",
    "    df_v2 = pd.DataFrame()\n",
    "    sample_ids = df['submitted_sample_id'].unique()\n",
    "    df_v2['sample_id'] = sample_ids\n",
    "    for sample_id in list(sample_ids):\n",
    "        df_tmp = df[df['submitted_sample_id'] == sample_id]\n",
    "        gene_names = df_tmp['gene_id'] # 获取对应的gene数据\n",
    "        #print(gene_names)\n",
    "        for index , row in df_tmp.iterrows():\n",
    "            #print('sample id :{}, gene_id :{}, read_count:{}'.format(sample_id, row['gene_id'], row['raw_read_count']))\n",
    "            df_v2.loc[df_v2['sample_id'] == sample_id, row['gene_id']] = row['raw_read_count']\n",
    "    #return df_v2\n",
    "    "
   ]
  },
  {
   "cell_type": "code",
   "execution_count": null,
   "id": "6a26cda2-bd48-4466-8c2a-b176af6725fc",
   "metadata": {},
   "outputs": [],
   "source": [
    "df2 = preProcessData(df1)"
   ]
  },
  {
   "cell_type": "code",
   "execution_count": null,
   "id": "077af87c-829d-48dd-b6cb-3b49edf7fb63",
   "metadata": {},
   "outputs": [],
   "source": []
  },
  {
   "cell_type": "code",
   "execution_count": null,
   "id": "36ec351f-9b5a-4a46-a305-ba95de9f6e65",
   "metadata": {},
   "outputs": [],
   "source": [
    "df2.head()"
   ]
  },
  {
   "cell_type": "code",
   "execution_count": null,
   "id": "0f912983-c22d-4c45-94d6-6944f09c22d9",
   "metadata": {},
   "outputs": [],
   "source": [
    "df3 = df1.pivot_table(index='submitted_sample_id',columns='gene_id',values='raw_read_count')\n"
   ]
  },
  {
   "cell_type": "code",
   "execution_count": null,
   "id": "c198fd3c-8d6f-4015-a6a6-0925f4700a05",
   "metadata": {},
   "outputs": [],
   "source": [
    "df3.head()"
   ]
  },
  {
   "cell_type": "code",
   "execution_count": null,
   "id": "f0cd7382-d7b0-4adb-bc4e-e87f59aed1f6",
   "metadata": {},
   "outputs": [],
   "source": [
    "df1.head()"
   ]
  },
  {
   "cell_type": "code",
   "execution_count": null,
   "id": "26605cdd-4754-422a-8898-8fa1e8619dc8",
   "metadata": {},
   "outputs": [],
   "source": [
    "df1 = df1[df1['gene_id'] != '?']"
   ]
  },
  {
   "cell_type": "code",
   "execution_count": null,
   "id": "f853e39d-a0fa-4d3a-a6d4-4806c3b29d58",
   "metadata": {},
   "outputs": [],
   "source": [
    "df2 = df1.set_index(['submitted_sample_id', 'gene_id'])['raw_read_count']"
   ]
  },
  {
   "cell_type": "code",
   "execution_count": null,
   "id": "0134a3f3-ddd0-455a-8cc3-95b435c1d9e2",
   "metadata": {},
   "outputs": [],
   "source": [
    "df2.index.unique()"
   ]
  },
  {
   "cell_type": "code",
   "execution_count": null,
   "id": "9174ae29-b152-423f-b7fb-6c1e14918523",
   "metadata": {},
   "outputs": [],
   "source": [
    "df3 = df2.unstack()"
   ]
  },
  {
   "cell_type": "code",
   "execution_count": null,
   "id": "40daaa9d-16a9-4492-9f16-7e83512f35f3",
   "metadata": {},
   "outputs": [],
   "source": [
    "df2 = df1.pivot_table(index='submitted_sample_id', columns='gene_id', values='raw_read_count')"
   ]
  },
  {
   "cell_type": "code",
   "execution_count": null,
   "id": "b8f9efdf-d107-4328-89fb-8f792a8eedee",
   "metadata": {},
   "outputs": [],
   "source": [
    "duplicate_bool = df1.duplicated(subset=['submitted_sample_id','gene_id'], keep='first')\n",
    "duplicate = df1.loc[duplicate_bool == True]"
   ]
  },
  {
   "cell_type": "code",
   "execution_count": null,
   "id": "aa37b476-b6ee-4a3d-ba66-fe330a7aa5ad",
   "metadata": {},
   "outputs": [],
   "source": [
    "duplicate"
   ]
  },
  {
   "cell_type": "code",
   "execution_count": 64,
   "id": "b0a2a493-797b-4fb4-ac86-92d574125c7c",
   "metadata": {},
   "outputs": [
    {
     "data": {
      "text/html": [
       "<div>\n",
       "<style scoped>\n",
       "    .dataframe tbody tr th:only-of-type {\n",
       "        vertical-align: middle;\n",
       "    }\n",
       "\n",
       "    .dataframe tbody tr th {\n",
       "        vertical-align: top;\n",
       "    }\n",
       "\n",
       "    .dataframe thead th {\n",
       "        text-align: right;\n",
       "    }\n",
       "</style>\n",
       "<table border=\"1\" class=\"dataframe\">\n",
       "  <thead>\n",
       "    <tr style=\"text-align: right;\">\n",
       "      <th>gene_id</th>\n",
       "      <th>A1BG</th>\n",
       "      <th>A1CF</th>\n",
       "      <th>A2BP1</th>\n",
       "      <th>A2LD1</th>\n",
       "      <th>A2M</th>\n",
       "      <th>A2ML1</th>\n",
       "      <th>A4GALT</th>\n",
       "      <th>A4GNT</th>\n",
       "      <th>AAA1</th>\n",
       "      <th>AAAS</th>\n",
       "      <th>...</th>\n",
       "      <th>ZXDA</th>\n",
       "      <th>ZXDB</th>\n",
       "      <th>ZXDC</th>\n",
       "      <th>ZYG11A</th>\n",
       "      <th>ZYG11B</th>\n",
       "      <th>ZYX</th>\n",
       "      <th>ZZEF1</th>\n",
       "      <th>ZZZ3</th>\n",
       "      <th>psiTPTE22</th>\n",
       "      <th>tAKR</th>\n",
       "    </tr>\n",
       "    <tr>\n",
       "      <th>submitted_sample_id</th>\n",
       "      <th></th>\n",
       "      <th></th>\n",
       "      <th></th>\n",
       "      <th></th>\n",
       "      <th></th>\n",
       "      <th></th>\n",
       "      <th></th>\n",
       "      <th></th>\n",
       "      <th></th>\n",
       "      <th></th>\n",
       "      <th></th>\n",
       "      <th></th>\n",
       "      <th></th>\n",
       "      <th></th>\n",
       "      <th></th>\n",
       "      <th></th>\n",
       "      <th></th>\n",
       "      <th></th>\n",
       "      <th></th>\n",
       "      <th></th>\n",
       "      <th></th>\n",
       "    </tr>\n",
       "  </thead>\n",
       "  <tbody>\n",
       "    <tr>\n",
       "      <th>TCGA-05-4244-01A-01R-1107-07</th>\n",
       "      <td>74.0</td>\n",
       "      <td>0.0</td>\n",
       "      <td>5.0</td>\n",
       "      <td>388.0</td>\n",
       "      <td>28202.0</td>\n",
       "      <td>1.0</td>\n",
       "      <td>375.0</td>\n",
       "      <td>3.0</td>\n",
       "      <td>0.0</td>\n",
       "      <td>1865.0</td>\n",
       "      <td>...</td>\n",
       "      <td>114.0</td>\n",
       "      <td>838.0</td>\n",
       "      <td>2748.0</td>\n",
       "      <td>2.0</td>\n",
       "      <td>3117.0</td>\n",
       "      <td>8130.0</td>\n",
       "      <td>2496.0</td>\n",
       "      <td>1648.0</td>\n",
       "      <td>19.0</td>\n",
       "      <td>0.0</td>\n",
       "    </tr>\n",
       "    <tr>\n",
       "      <th>TCGA-05-4249-01A-01R-1107-07</th>\n",
       "      <td>373.0</td>\n",
       "      <td>1.0</td>\n",
       "      <td>5.0</td>\n",
       "      <td>276.0</td>\n",
       "      <td>79863.0</td>\n",
       "      <td>5.0</td>\n",
       "      <td>1797.0</td>\n",
       "      <td>2.0</td>\n",
       "      <td>1.0</td>\n",
       "      <td>1877.0</td>\n",
       "      <td>...</td>\n",
       "      <td>193.0</td>\n",
       "      <td>1533.0</td>\n",
       "      <td>3663.0</td>\n",
       "      <td>63.0</td>\n",
       "      <td>2446.0</td>\n",
       "      <td>7303.0</td>\n",
       "      <td>3535.0</td>\n",
       "      <td>2144.0</td>\n",
       "      <td>559.0</td>\n",
       "      <td>0.0</td>\n",
       "    </tr>\n",
       "    <tr>\n",
       "      <th>TCGA-05-4250-01A-01R-1107-07</th>\n",
       "      <td>153.0</td>\n",
       "      <td>0.0</td>\n",
       "      <td>0.0</td>\n",
       "      <td>455.0</td>\n",
       "      <td>51097.0</td>\n",
       "      <td>0.0</td>\n",
       "      <td>1075.0</td>\n",
       "      <td>3.0</td>\n",
       "      <td>4.0</td>\n",
       "      <td>1775.0</td>\n",
       "      <td>...</td>\n",
       "      <td>181.0</td>\n",
       "      <td>1102.0</td>\n",
       "      <td>2545.0</td>\n",
       "      <td>80.0</td>\n",
       "      <td>1433.0</td>\n",
       "      <td>16398.0</td>\n",
       "      <td>3530.0</td>\n",
       "      <td>1607.0</td>\n",
       "      <td>19.0</td>\n",
       "      <td>0.0</td>\n",
       "    </tr>\n",
       "    <tr>\n",
       "      <th>TCGA-05-4382-01A-01R-1206-07</th>\n",
       "      <td>609.0</td>\n",
       "      <td>0.0</td>\n",
       "      <td>0.0</td>\n",
       "      <td>468.0</td>\n",
       "      <td>97475.0</td>\n",
       "      <td>20.0</td>\n",
       "      <td>2317.0</td>\n",
       "      <td>9.0</td>\n",
       "      <td>6.0</td>\n",
       "      <td>2542.0</td>\n",
       "      <td>...</td>\n",
       "      <td>169.0</td>\n",
       "      <td>1449.0</td>\n",
       "      <td>3956.0</td>\n",
       "      <td>271.0</td>\n",
       "      <td>3795.0</td>\n",
       "      <td>28291.0</td>\n",
       "      <td>4886.0</td>\n",
       "      <td>2774.0</td>\n",
       "      <td>147.0</td>\n",
       "      <td>0.0</td>\n",
       "    </tr>\n",
       "    <tr>\n",
       "      <th>TCGA-05-4384-01A-01R-1755-07</th>\n",
       "      <td>208.0</td>\n",
       "      <td>0.0</td>\n",
       "      <td>0.0</td>\n",
       "      <td>143.0</td>\n",
       "      <td>79090.0</td>\n",
       "      <td>0.0</td>\n",
       "      <td>250.0</td>\n",
       "      <td>3.0</td>\n",
       "      <td>0.0</td>\n",
       "      <td>1090.0</td>\n",
       "      <td>...</td>\n",
       "      <td>131.0</td>\n",
       "      <td>922.0</td>\n",
       "      <td>2162.0</td>\n",
       "      <td>13.0</td>\n",
       "      <td>1275.0</td>\n",
       "      <td>5470.0</td>\n",
       "      <td>2844.0</td>\n",
       "      <td>1184.0</td>\n",
       "      <td>619.0</td>\n",
       "      <td>0.0</td>\n",
       "    </tr>\n",
       "  </tbody>\n",
       "</table>\n",
       "<p>5 rows × 20501 columns</p>\n",
       "</div>"
      ],
      "text/plain": [
       "gene_id                        A1BG  A1CF  A2BP1  A2LD1      A2M  A2ML1  \\\n",
       "submitted_sample_id                                                       \n",
       "TCGA-05-4244-01A-01R-1107-07   74.0   0.0    5.0  388.0  28202.0    1.0   \n",
       "TCGA-05-4249-01A-01R-1107-07  373.0   1.0    5.0  276.0  79863.0    5.0   \n",
       "TCGA-05-4250-01A-01R-1107-07  153.0   0.0    0.0  455.0  51097.0    0.0   \n",
       "TCGA-05-4382-01A-01R-1206-07  609.0   0.0    0.0  468.0  97475.0   20.0   \n",
       "TCGA-05-4384-01A-01R-1755-07  208.0   0.0    0.0  143.0  79090.0    0.0   \n",
       "\n",
       "gene_id                       A4GALT  A4GNT  AAA1    AAAS  ...   ZXDA    ZXDB  \\\n",
       "submitted_sample_id                                        ...                  \n",
       "TCGA-05-4244-01A-01R-1107-07   375.0    3.0   0.0  1865.0  ...  114.0   838.0   \n",
       "TCGA-05-4249-01A-01R-1107-07  1797.0    2.0   1.0  1877.0  ...  193.0  1533.0   \n",
       "TCGA-05-4250-01A-01R-1107-07  1075.0    3.0   4.0  1775.0  ...  181.0  1102.0   \n",
       "TCGA-05-4382-01A-01R-1206-07  2317.0    9.0   6.0  2542.0  ...  169.0  1449.0   \n",
       "TCGA-05-4384-01A-01R-1755-07   250.0    3.0   0.0  1090.0  ...  131.0   922.0   \n",
       "\n",
       "gene_id                         ZXDC  ZYG11A  ZYG11B      ZYX   ZZEF1    ZZZ3  \\\n",
       "submitted_sample_id                                                             \n",
       "TCGA-05-4244-01A-01R-1107-07  2748.0     2.0  3117.0   8130.0  2496.0  1648.0   \n",
       "TCGA-05-4249-01A-01R-1107-07  3663.0    63.0  2446.0   7303.0  3535.0  2144.0   \n",
       "TCGA-05-4250-01A-01R-1107-07  2545.0    80.0  1433.0  16398.0  3530.0  1607.0   \n",
       "TCGA-05-4382-01A-01R-1206-07  3956.0   271.0  3795.0  28291.0  4886.0  2774.0   \n",
       "TCGA-05-4384-01A-01R-1755-07  2162.0    13.0  1275.0   5470.0  2844.0  1184.0   \n",
       "\n",
       "gene_id                       psiTPTE22  tAKR  \n",
       "submitted_sample_id                            \n",
       "TCGA-05-4244-01A-01R-1107-07       19.0   0.0  \n",
       "TCGA-05-4249-01A-01R-1107-07      559.0   0.0  \n",
       "TCGA-05-4250-01A-01R-1107-07       19.0   0.0  \n",
       "TCGA-05-4382-01A-01R-1206-07      147.0   0.0  \n",
       "TCGA-05-4384-01A-01R-1755-07      619.0   0.0  \n",
       "\n",
       "[5 rows x 20501 columns]"
      ]
     },
     "execution_count": 64,
     "metadata": {},
     "output_type": "execute_result"
    }
   ],
   "source": [
    "df2.head()"
   ]
  },
  {
   "cell_type": "code",
   "execution_count": 75,
   "id": "9f13007d-891f-46fe-af3c-9ab1ce3310d0",
   "metadata": {},
   "outputs": [],
   "source": [
    "def preProcessData(df):\n",
    "    # 输入原始数据，做列转行\n",
    "    # 1， 移除非法数据 gene_id = ?\n",
    "    df = df[df['gene_id'] != '?']\n",
    "    # 2. 把geneid 打平到行上\n",
    "    df1 = df.pivot_table(index='submitted_sample_id', columns='gene_id', values='raw_read_count')\n",
    "    \n",
    "    # 3. 打上label ，查看是否是患病患者\n",
    "    df1['name'] = df1.index\n",
    "    df1['label'] = df1.apply(lambda x : int('11' not in x.name.split('-')[3]), axis=1)\n",
    "    \n",
    "    \n",
    "    return df1"
   ]
  },
  {
   "cell_type": "code",
   "execution_count": 76,
   "id": "255fa0e9-8603-49da-9e98-62e2e53d87d3",
   "metadata": {},
   "outputs": [],
   "source": [
    "df2 = preProcessData(df1)"
   ]
  },
  {
   "cell_type": "code",
   "execution_count": 77,
   "id": "b1c3f57b-dc82-4ed5-9c9e-fe08cda4866e",
   "metadata": {},
   "outputs": [
    {
     "data": {
      "text/html": [
       "<div>\n",
       "<style scoped>\n",
       "    .dataframe tbody tr th:only-of-type {\n",
       "        vertical-align: middle;\n",
       "    }\n",
       "\n",
       "    .dataframe tbody tr th {\n",
       "        vertical-align: top;\n",
       "    }\n",
       "\n",
       "    .dataframe thead th {\n",
       "        text-align: right;\n",
       "    }\n",
       "</style>\n",
       "<table border=\"1\" class=\"dataframe\">\n",
       "  <thead>\n",
       "    <tr style=\"text-align: right;\">\n",
       "      <th>gene_id</th>\n",
       "      <th>A1BG</th>\n",
       "      <th>A1CF</th>\n",
       "      <th>A2BP1</th>\n",
       "      <th>A2LD1</th>\n",
       "      <th>A2M</th>\n",
       "      <th>A2ML1</th>\n",
       "      <th>A4GALT</th>\n",
       "      <th>A4GNT</th>\n",
       "      <th>AAA1</th>\n",
       "      <th>AAAS</th>\n",
       "      <th>...</th>\n",
       "      <th>ZXDC</th>\n",
       "      <th>ZYG11A</th>\n",
       "      <th>ZYG11B</th>\n",
       "      <th>ZYX</th>\n",
       "      <th>ZZEF1</th>\n",
       "      <th>ZZZ3</th>\n",
       "      <th>psiTPTE22</th>\n",
       "      <th>tAKR</th>\n",
       "      <th>name</th>\n",
       "      <th>label</th>\n",
       "    </tr>\n",
       "    <tr>\n",
       "      <th>submitted_sample_id</th>\n",
       "      <th></th>\n",
       "      <th></th>\n",
       "      <th></th>\n",
       "      <th></th>\n",
       "      <th></th>\n",
       "      <th></th>\n",
       "      <th></th>\n",
       "      <th></th>\n",
       "      <th></th>\n",
       "      <th></th>\n",
       "      <th></th>\n",
       "      <th></th>\n",
       "      <th></th>\n",
       "      <th></th>\n",
       "      <th></th>\n",
       "      <th></th>\n",
       "      <th></th>\n",
       "      <th></th>\n",
       "      <th></th>\n",
       "      <th></th>\n",
       "      <th></th>\n",
       "    </tr>\n",
       "  </thead>\n",
       "  <tbody>\n",
       "    <tr>\n",
       "      <th>TCGA-05-4244-01A-01R-1107-07</th>\n",
       "      <td>74.0</td>\n",
       "      <td>0.0</td>\n",
       "      <td>5.0</td>\n",
       "      <td>388.0</td>\n",
       "      <td>28202.0</td>\n",
       "      <td>1.0</td>\n",
       "      <td>375.0</td>\n",
       "      <td>3.0</td>\n",
       "      <td>0.0</td>\n",
       "      <td>1865.0</td>\n",
       "      <td>...</td>\n",
       "      <td>2748.0</td>\n",
       "      <td>2.0</td>\n",
       "      <td>3117.0</td>\n",
       "      <td>8130.0</td>\n",
       "      <td>2496.0</td>\n",
       "      <td>1648.0</td>\n",
       "      <td>19.0</td>\n",
       "      <td>0.0</td>\n",
       "      <td>TCGA-05-4244-01A-01R-1107-07</td>\n",
       "      <td>1</td>\n",
       "    </tr>\n",
       "    <tr>\n",
       "      <th>TCGA-05-4249-01A-01R-1107-07</th>\n",
       "      <td>373.0</td>\n",
       "      <td>1.0</td>\n",
       "      <td>5.0</td>\n",
       "      <td>276.0</td>\n",
       "      <td>79863.0</td>\n",
       "      <td>5.0</td>\n",
       "      <td>1797.0</td>\n",
       "      <td>2.0</td>\n",
       "      <td>1.0</td>\n",
       "      <td>1877.0</td>\n",
       "      <td>...</td>\n",
       "      <td>3663.0</td>\n",
       "      <td>63.0</td>\n",
       "      <td>2446.0</td>\n",
       "      <td>7303.0</td>\n",
       "      <td>3535.0</td>\n",
       "      <td>2144.0</td>\n",
       "      <td>559.0</td>\n",
       "      <td>0.0</td>\n",
       "      <td>TCGA-05-4249-01A-01R-1107-07</td>\n",
       "      <td>1</td>\n",
       "    </tr>\n",
       "    <tr>\n",
       "      <th>TCGA-05-4250-01A-01R-1107-07</th>\n",
       "      <td>153.0</td>\n",
       "      <td>0.0</td>\n",
       "      <td>0.0</td>\n",
       "      <td>455.0</td>\n",
       "      <td>51097.0</td>\n",
       "      <td>0.0</td>\n",
       "      <td>1075.0</td>\n",
       "      <td>3.0</td>\n",
       "      <td>4.0</td>\n",
       "      <td>1775.0</td>\n",
       "      <td>...</td>\n",
       "      <td>2545.0</td>\n",
       "      <td>80.0</td>\n",
       "      <td>1433.0</td>\n",
       "      <td>16398.0</td>\n",
       "      <td>3530.0</td>\n",
       "      <td>1607.0</td>\n",
       "      <td>19.0</td>\n",
       "      <td>0.0</td>\n",
       "      <td>TCGA-05-4250-01A-01R-1107-07</td>\n",
       "      <td>1</td>\n",
       "    </tr>\n",
       "    <tr>\n",
       "      <th>TCGA-05-4382-01A-01R-1206-07</th>\n",
       "      <td>609.0</td>\n",
       "      <td>0.0</td>\n",
       "      <td>0.0</td>\n",
       "      <td>468.0</td>\n",
       "      <td>97475.0</td>\n",
       "      <td>20.0</td>\n",
       "      <td>2317.0</td>\n",
       "      <td>9.0</td>\n",
       "      <td>6.0</td>\n",
       "      <td>2542.0</td>\n",
       "      <td>...</td>\n",
       "      <td>3956.0</td>\n",
       "      <td>271.0</td>\n",
       "      <td>3795.0</td>\n",
       "      <td>28291.0</td>\n",
       "      <td>4886.0</td>\n",
       "      <td>2774.0</td>\n",
       "      <td>147.0</td>\n",
       "      <td>0.0</td>\n",
       "      <td>TCGA-05-4382-01A-01R-1206-07</td>\n",
       "      <td>1</td>\n",
       "    </tr>\n",
       "    <tr>\n",
       "      <th>TCGA-05-4384-01A-01R-1755-07</th>\n",
       "      <td>208.0</td>\n",
       "      <td>0.0</td>\n",
       "      <td>0.0</td>\n",
       "      <td>143.0</td>\n",
       "      <td>79090.0</td>\n",
       "      <td>0.0</td>\n",
       "      <td>250.0</td>\n",
       "      <td>3.0</td>\n",
       "      <td>0.0</td>\n",
       "      <td>1090.0</td>\n",
       "      <td>...</td>\n",
       "      <td>2162.0</td>\n",
       "      <td>13.0</td>\n",
       "      <td>1275.0</td>\n",
       "      <td>5470.0</td>\n",
       "      <td>2844.0</td>\n",
       "      <td>1184.0</td>\n",
       "      <td>619.0</td>\n",
       "      <td>0.0</td>\n",
       "      <td>TCGA-05-4384-01A-01R-1755-07</td>\n",
       "      <td>1</td>\n",
       "    </tr>\n",
       "  </tbody>\n",
       "</table>\n",
       "<p>5 rows × 20503 columns</p>\n",
       "</div>"
      ],
      "text/plain": [
       "gene_id                        A1BG  A1CF  A2BP1  A2LD1      A2M  A2ML1  \\\n",
       "submitted_sample_id                                                       \n",
       "TCGA-05-4244-01A-01R-1107-07   74.0   0.0    5.0  388.0  28202.0    1.0   \n",
       "TCGA-05-4249-01A-01R-1107-07  373.0   1.0    5.0  276.0  79863.0    5.0   \n",
       "TCGA-05-4250-01A-01R-1107-07  153.0   0.0    0.0  455.0  51097.0    0.0   \n",
       "TCGA-05-4382-01A-01R-1206-07  609.0   0.0    0.0  468.0  97475.0   20.0   \n",
       "TCGA-05-4384-01A-01R-1755-07  208.0   0.0    0.0  143.0  79090.0    0.0   \n",
       "\n",
       "gene_id                       A4GALT  A4GNT  AAA1    AAAS  ...    ZXDC  \\\n",
       "submitted_sample_id                                        ...           \n",
       "TCGA-05-4244-01A-01R-1107-07   375.0    3.0   0.0  1865.0  ...  2748.0   \n",
       "TCGA-05-4249-01A-01R-1107-07  1797.0    2.0   1.0  1877.0  ...  3663.0   \n",
       "TCGA-05-4250-01A-01R-1107-07  1075.0    3.0   4.0  1775.0  ...  2545.0   \n",
       "TCGA-05-4382-01A-01R-1206-07  2317.0    9.0   6.0  2542.0  ...  3956.0   \n",
       "TCGA-05-4384-01A-01R-1755-07   250.0    3.0   0.0  1090.0  ...  2162.0   \n",
       "\n",
       "gene_id                       ZYG11A  ZYG11B      ZYX   ZZEF1    ZZZ3  \\\n",
       "submitted_sample_id                                                     \n",
       "TCGA-05-4244-01A-01R-1107-07     2.0  3117.0   8130.0  2496.0  1648.0   \n",
       "TCGA-05-4249-01A-01R-1107-07    63.0  2446.0   7303.0  3535.0  2144.0   \n",
       "TCGA-05-4250-01A-01R-1107-07    80.0  1433.0  16398.0  3530.0  1607.0   \n",
       "TCGA-05-4382-01A-01R-1206-07   271.0  3795.0  28291.0  4886.0  2774.0   \n",
       "TCGA-05-4384-01A-01R-1755-07    13.0  1275.0   5470.0  2844.0  1184.0   \n",
       "\n",
       "gene_id                       psiTPTE22  tAKR                          name  \\\n",
       "submitted_sample_id                                                           \n",
       "TCGA-05-4244-01A-01R-1107-07       19.0   0.0  TCGA-05-4244-01A-01R-1107-07   \n",
       "TCGA-05-4249-01A-01R-1107-07      559.0   0.0  TCGA-05-4249-01A-01R-1107-07   \n",
       "TCGA-05-4250-01A-01R-1107-07       19.0   0.0  TCGA-05-4250-01A-01R-1107-07   \n",
       "TCGA-05-4382-01A-01R-1206-07      147.0   0.0  TCGA-05-4382-01A-01R-1206-07   \n",
       "TCGA-05-4384-01A-01R-1755-07      619.0   0.0  TCGA-05-4384-01A-01R-1755-07   \n",
       "\n",
       "gene_id                       label  \n",
       "submitted_sample_id                  \n",
       "TCGA-05-4244-01A-01R-1107-07      1  \n",
       "TCGA-05-4249-01A-01R-1107-07      1  \n",
       "TCGA-05-4250-01A-01R-1107-07      1  \n",
       "TCGA-05-4382-01A-01R-1206-07      1  \n",
       "TCGA-05-4384-01A-01R-1755-07      1  \n",
       "\n",
       "[5 rows x 20503 columns]"
      ]
     },
     "execution_count": 77,
     "metadata": {},
     "output_type": "execute_result"
    }
   ],
   "source": [
    "df2.head()"
   ]
  },
  {
   "cell_type": "code",
   "execution_count": 78,
   "id": "a170b279-b4e7-4908-ad08-80e318917e6e",
   "metadata": {},
   "outputs": [],
   "source": [
    "df2.to_csv('icgc_data/icgc_train_data.csv')"
   ]
  },
  {
   "cell_type": "code",
   "execution_count": 80,
   "id": "cd480035-4821-4789-88ac-916c4296c533",
   "metadata": {},
   "outputs": [
    {
     "data": {
      "text/plain": [
       "488"
      ]
     },
     "execution_count": 80,
     "metadata": {},
     "output_type": "execute_result"
    }
   ],
   "source": [
    "df2[df2['label'] == 1]['label'].size"
   ]
  },
  {
   "cell_type": "code",
   "execution_count": 1,
   "id": "ff1ab098-9177-49a0-99f8-1aaaccbfdb38",
   "metadata": {},
   "outputs": [
    {
     "ename": "NameError",
     "evalue": "name 'df2' is not defined",
     "output_type": "error",
     "traceback": [
      "\u001b[0;31m---------------------------------------------------------------------------\u001b[0m",
      "\u001b[0;31mNameError\u001b[0m                                 Traceback (most recent call last)",
      "\u001b[0;32m/var/folders/27/cq0gfqb11s55tfbv1zypb3j80000gp/T/ipykernel_31147/390340713.py\u001b[0m in \u001b[0;36m<module>\u001b[0;34m\u001b[0m\n\u001b[0;32m----> 1\u001b[0;31m \u001b[0mdf2\u001b[0m\u001b[0;34m.\u001b[0m\u001b[0msize\u001b[0m\u001b[0;34m\u001b[0m\u001b[0m\n\u001b[0m",
      "\u001b[0;31mNameError\u001b[0m: name 'df2' is not defined"
     ]
    }
   ],
   "source": [
    "df2.size"
   ]
  },
  {
   "cell_type": "code",
   "execution_count": 3,
   "id": "d005ff4f-2bc6-4f06-9a7c-8e9168a5e2a3",
   "metadata": {},
   "outputs": [],
   "source": [
    "df3 = pd.read_csv('icgc_train_data_v2.csv')"
   ]
  },
  {
   "cell_type": "code",
   "execution_count": 4,
   "id": "afa2bf84-1ed5-4996-8d30-d8f198621284",
   "metadata": {},
   "outputs": [
    {
     "data": {
      "text/plain": [
       "543"
      ]
     },
     "execution_count": 4,
     "metadata": {},
     "output_type": "execute_result"
    }
   ],
   "source": [
    "len(df3)"
   ]
  },
  {
   "cell_type": "code",
   "execution_count": 5,
   "id": "6b93be80-b784-44e6-b923-37c9b5a5b1c2",
   "metadata": {},
   "outputs": [
    {
     "data": {
      "text/plain": [
       "488"
      ]
     },
     "execution_count": 5,
     "metadata": {},
     "output_type": "execute_result"
    }
   ],
   "source": [
    "df3[df3['label'] == 1]['label'].size"
   ]
  },
  {
   "cell_type": "code",
   "execution_count": 6,
   "id": "cd794276-4da1-4339-86e1-14bcbb402f66",
   "metadata": {},
   "outputs": [
    {
     "data": {
      "text/plain": [
       "55"
      ]
     },
     "execution_count": 6,
     "metadata": {},
     "output_type": "execute_result"
    }
   ],
   "source": [
    "df3[df3['label'] == 0]['label'].size"
   ]
  },
  {
   "cell_type": "code",
   "execution_count": 7,
   "id": "fe24e0c5-94e5-4c17-a3ac-2952a22971a4",
   "metadata": {},
   "outputs": [
    {
     "data": {
      "text/plain": [
       "20503"
      ]
     },
     "execution_count": 7,
     "metadata": {},
     "output_type": "execute_result"
    }
   ],
   "source": [
    "len(df3.columns)"
   ]
  },
  {
   "cell_type": "code",
   "execution_count": null,
   "id": "d8c10cf6-34c0-4fab-a559-ef81e3832826",
   "metadata": {},
   "outputs": [],
   "source": []
  }
 ],
 "metadata": {
  "kernelspec": {
   "display_name": "Python 3 (ipykernel)",
   "language": "python",
   "name": "python3"
  },
  "language_info": {
   "codemirror_mode": {
    "name": "ipython",
    "version": 3
   },
   "file_extension": ".py",
   "mimetype": "text/x-python",
   "name": "python",
   "nbconvert_exporter": "python",
   "pygments_lexer": "ipython3",
   "version": "3.7.0"
  }
 },
 "nbformat": 4,
 "nbformat_minor": 5
}
