{
 "cells": [
  {
   "cell_type": "code",
   "execution_count": 1,
   "id": "geographic-wagon",
   "metadata": {},
   "outputs": [],
   "source": [
    "import tensorflow as tf\n",
    "import numpy as np\n",
    "import pandas as pd\n",
    "import matplotlib.pyplot as plt\n",
    "import seaborn as sns\n",
    "from scipy.stats import entropy"
   ]
  },
  {
   "cell_type": "code",
   "execution_count": null,
   "id": "middle-certificate",
   "metadata": {},
   "outputs": [],
   "source": [
    "def array_to_dist(dataset, feature_name, label, step):\n",
    "    # 左闭右开\n",
    "    if dataset is None:\n",
    "        return []\n",
    "    \n",
    "    min_val = min(dataset[feature_name])\n",
    "    max_val = max(dataset[feature_name]) \n",
    "    \n",
    "    #print('feature:{},min:{}, max:{}'.format(feature_name, min_val, max_val))\n",
    "    \n",
    "    #print('min:{}, max:{}'.format(min_val, max_val))\n",
    "    val = np.linspace(min_val, max_val, num=step+1)\n",
    "    val = val.tolist()\n",
    "    #print('val:{}'.format(val))\n",
    "    \n",
    "    dist=[]\n",
    "    deal_data = dataset.loc[dataset['label']==label]\n",
    "    if deal_data is None:\n",
    "        return []\n",
    "    sum_val = 0\n",
    "    for i in range (step):\n",
    "       # print('i:{},i+1:{}'.format(val[i], val[i+1]))\n",
    "        x = deal_data.loc[(deal_data[feature_name]>=val[i]) & (deal_data[feature_name]<val[i+1])]\n",
    "        sum_val = sum_val + len(x)\n",
    "        val_size = len(x)\n",
    "        dist.append(val_size)\n",
    "    \n",
    "    \n",
    "    for i, val in enumerate(dist):\n",
    "        if sum_val == 0:\n",
    "            break\n",
    "        dist[i] = dist[i]/sum_val\n",
    "        if dist[i] == 0:\n",
    "            dist[i] = 0.000001\n",
    "    return dist\n",
    "    \n",
    "\n",
    "def kl_divergence(feature_name, dataset):\n",
    "    '''\n",
    "    计算feature_name对应的kl散度\n",
    "    feature_name:特征名称\n",
    "    dataset 数据集合\n",
    "    面临一个问题，normal和disease两个数据长度不一致，需要对齐\n",
    "    就算长度对齐也不对，需要进行分桶，计算好分布\n",
    "    '''\n",
    "   # neg = array_to_dist(dataset, feature_name, 0, 20)\n",
    "    #pos = array_to_dist(dataset, feature_name, 1, 20)\n",
    "    \n",
    "    #print('neg:{},pos:{}'.format(neg, pos))\n",
    "    '''\n",
    "    这里使用numpy.histogram来代替之前自己写的函数，看看速度会提升不\n",
    "    '''\n",
    "    neg_feature_data = dataset[dataset['label'] == 0][feature_name] # 负样本数据\n",
    "    pos_feature_data = dataset[dataset['label'] == 1][feature_name] # 正样本数据\n",
    "    \n",
    "    min_value = pos_feature_data.min() if neg_feature_data.min() > pos_feature_data.min() else neg_feature_data.min()\n",
    "    max_value = neg_feature_data.max() if neg_feature_data.max() > pos_feature_data.max() else pos_feature_data.max()\n",
    "    neg_hist, neg_bin = np.histogram(neg_feature_data, bins = 10, range=(min_value, max_value), density = True)\n",
    "    pos_hist, pos_bin = np.histogram(pos_feature_data, bins = 10, range=(min_value, max_value), density = True)\n",
    "    pos_hist[pos_hist == 0] = 1e-7\n",
    "    neg_hist[neg_hist == 0] = 1e-7\n",
    "    return entropy(neg_hist, pos_hist, base = 2)\n",
    "\n",
    "# 获取所有df的\n",
    "def get_all_kl_divergence(df):\n",
    "    features =[]\n",
    "    feature_kl = []\n",
    "    size = len(df.columns)\n",
    "    i = 0\n",
    "    for feature in df.columns:\n",
    "        if feature == 'label':\n",
    "            continue\n",
    "        features.append(feature)\n",
    "        feature_kl.append(kl_divergence(feature, df))\n",
    "        i = i + 1\n",
    "        print('process:{}'.format(i))\n",
    "    kl_feature_dataset = pd.DataFrame()\n",
    "    kl_feature_dataset['feature_name'] = features\n",
    "    kl_feature_dataset['kl_divergence'] = feature_kl\n",
    "    final = kl_feature_dataset.sort_values('kl_divergence', ascending=False)\n",
    "    return final"
   ]
  },
  {
   "cell_type": "code",
   "execution_count": null,
   "id": "marked-maintenance",
   "metadata": {},
   "outputs": [],
   "source": [
    "def array_to_hist(arr):\n",
    "    # 数组生成hist"
   ]
  },
  {
   "cell_type": "code",
   "execution_count": null,
   "id": "informational-earth",
   "metadata": {},
   "outputs": [],
   "source": [
    "df = pd.read_csv('final_train_v4.csv', index_col = 0)\n",
    "#normal_df = df[df['label'] == 0]\n",
    "\n",
    "#disease_df = df[df['label'] == 1].sample(n = 60)\n",
    "\n",
    "#df1 = normal_df.append(disease_df)\n",
    "\n",
    "dd = get_all_kl_divergence(df)"
   ]
  },
  {
   "cell_type": "code",
   "execution_count": null,
   "id": "comfortable-values",
   "metadata": {},
   "outputs": [],
   "source": [
    "df['CD5L']"
   ]
  },
  {
   "cell_type": "code",
   "execution_count": null,
   "id": "herbal-sensitivity",
   "metadata": {},
   "outputs": [],
   "source": [
    "dd.head(30)"
   ]
  },
  {
   "cell_type": "code",
   "execution_count": null,
   "id": "coated-exception",
   "metadata": {},
   "outputs": [],
   "source": [
    "def plot_train(feature_name, dataset):\n",
    "    '''\n",
    "     feature_name : 特征名称\n",
    "     dataset: 训练集合的dataFrame的全集\n",
    "    '''\n",
    "    if  dataset is None:\n",
    "        return\n",
    "    if feature_name is None:\n",
    "        return\n",
    "    # 获取最后正样本和负样本两种数据的差异\n",
    "    #ax.set_title('{}患病和正常组的数据分布图'.format(feature_name))\n",
    "    #f, ax= plt.subplots()\n",
    "    g = sns.displot(dataset, x=feature_name, kind='kde', hue='label', fill=True, rug=True)\n",
    "    #g.set_axis_labels('{}'.format(feature_name))\n",
    "    #g.set_titles('ontrol group and disease group PDF',)\n",
    "    #g.set_ylabels(\"control group and disease group PDF\")\n",
    "    g.ax.set_title(u'{} disease group and control group PDF'.format(feature_name))\n",
    "    #g.savefig(\"{}.png\".format(feature_name))\n",
    "    #sns.displot(disease_data,kind='kde')"
   ]
  },
  {
   "cell_type": "code",
   "execution_count": null,
   "id": "defined-lloyd",
   "metadata": {},
   "outputs": [],
   "source": [
    "plot_train('FXYD1', df1)"
   ]
  },
  {
   "cell_type": "code",
   "execution_count": null,
   "id": "dominican-globe",
   "metadata": {},
   "outputs": [],
   "source": [
    "choosed_features = dd[dd['kl_divergence'] > 3].reset_index(drop = True)\n",
    "choosed_features"
   ]
  },
  {
   "cell_type": "code",
   "execution_count": null,
   "id": "moving-matrix",
   "metadata": {},
   "outputs": [],
   "source": [
    "len(choosed_features)"
   ]
  },
  {
   "cell_type": "code",
   "execution_count": null,
   "id": "structural-chambers",
   "metadata": {},
   "outputs": [],
   "source": [
    "choosed_features"
   ]
  },
  {
   "cell_type": "code",
   "execution_count": 2,
   "id": "seventh-colonial",
   "metadata": {},
   "outputs": [],
   "source": [
    "from sklearn.model_selection import train_test_split\n",
    "from sklearn import preprocessing\n",
    "from sklearn.utils import shuffle\n",
    "from datetime import datetime\n",
    "from tensorflow import keras\n",
    "\n",
    "global train, test, train_ds, test_ds\n",
    "def df_to_dataset(dataframe, shuffle=True, batch_size=20):\n",
    "  dataframe1 = dataframe.copy()\n",
    "  labels = dataframe1.pop('label')\n",
    "  ds = tf.data.Dataset.from_tensor_slices((dict(dataframe1), labels))\n",
    "  if shuffle:\n",
    "    ds = ds.shuffle(buffer_size=len(dataframe1))\n",
    "  ds = ds.batch(batch_size)\n",
    "  return ds\n",
    "\n",
    "# 定义一个函数，输入数据，然后将列作为feature_column 然后构建lr模型来看哪个特征重要\n",
    "def train_model(data):\n",
    "    global train, test, train_ds, test_ds\n",
    "    if data is None:\n",
    "        return None\n",
    "    if len(data.columns) == 0:\n",
    "        return None\n",
    "    feature_columns = []\n",
    "    for feature in data.columns:\n",
    "        if feature == 'label':\n",
    "            continue\n",
    "        feature_columns.append(tf.feature_column.numeric_column(feature))\n",
    "    \n",
    "    # 生成训练数据\n",
    "    batch_size=20\n",
    "    train, test = train_test_split(data, test_size=0.2)\n",
    "    train_ds = df_to_dataset(train, batch_size=batch_size)\n",
    "    test_ds = df_to_dataset(test, batch_size=batch_size)\n",
    "    \n",
    "    model = tf.keras.Sequential([\n",
    "          tf.keras.layers.DenseFeatures(feature_columns),\n",
    "          #tf.keras.layers.Dense(64, activation='relu'),\n",
    "          tf.keras.layers.Dense(1, activation = 'sigmoid')\n",
    "    ])\n",
    "    model.compile(optimizer='adam',\n",
    "              loss='binary_crossentropy',\n",
    "              metrics=['AUC','accuracy', 'Recall', 'Precision'])\n",
    "    logdir=\"logs/fit/\" + datetime.now().strftime(\"%Y%m%d-%H%M%S\")\n",
    "    tensorboard_callback = keras.callbacks.TensorBoard(log_dir=logdir)\n",
    "\n",
    "    model.fit(train_ds,\n",
    "          validation_data = test_ds,\n",
    "          epochs = 100,\n",
    "          callbacks = [tensorboard_callback])\n",
    "    return model\n",
    "    "
   ]
  },
  {
   "cell_type": "code",
   "execution_count": null,
   "id": "electric-artwork",
   "metadata": {},
   "outputs": [],
   "source": [
    "#df_final = df[choosed_features['feature_name'] + ['label']]\n",
    "#df_final['label'] = df['label']\n",
    "#choosed_features['feature_name'].values.insert(['label'])\n",
    "#choosed_features['feature_name'].append('label')\n",
    "index_columns = np.append(choosed_features['feature_name'].values, ['label'])\n",
    "df_final = df[index_columns]"
   ]
  },
  {
   "cell_type": "code",
   "execution_count": null,
   "id": "scientific-local",
   "metadata": {},
   "outputs": [],
   "source": [
    "df_final.head(10)"
   ]
  },
  {
   "cell_type": "code",
   "execution_count": null,
   "id": "parliamentary-polymer",
   "metadata": {},
   "outputs": [],
   "source": [
    "df_t2 = shuffle(df_final)\n",
    "train_model(df_t2)"
   ]
  },
  {
   "cell_type": "code",
   "execution_count": null,
   "id": "hundred-texas",
   "metadata": {},
   "outputs": [],
   "source": [
    "df = pd.read_csv('final_train_v4.csv', index_col = 0)"
   ]
  },
  {
   "cell_type": "code",
   "execution_count": null,
   "id": "approved-diamond",
   "metadata": {},
   "outputs": [],
   "source": [
    "import os\n",
    "os.environ[\"CUDA_DEVICE_ORDER\"] = \"PCI_BUS_ID\"  \n",
    "os.environ[\"CUDA_VISIBLE_DEVICES\"] = \"-1\"\n",
    "tf.config.experimental.set_memory_growth = True\n",
    "df_t2 = shuffle(df)\n",
    "train_model(df_t2)"
   ]
  },
  {
   "cell_type": "code",
   "execution_count": null,
   "id": "liked-nitrogen",
   "metadata": {},
   "outputs": [],
   "source": [
    "df_final.to_csv('final_choosed_feature_v1.csv')"
   ]
  },
  {
   "cell_type": "code",
   "execution_count": 3,
   "id": "cubic-consideration",
   "metadata": {},
   "outputs": [
    {
     "data": {
      "text/plain": [
       "Index(['GYPE', 'SSTR4', 'NECAB1', 'C10orf67', 'SGCG', 'E2F3', 'JPH4', 'HBM',\n",
       "       'CCDC54', 'ADCY8',\n",
       "       ...\n",
       "       'MAPK4', 'CMTM2', 'AJAP1', 'PADI4', 'SLC4A1', 'NLRC4', 'PECAM1',\n",
       "       'TAMALIN', 'SIRPD', 'label'],\n",
       "      dtype='object', length=195)"
      ]
     },
     "execution_count": 3,
     "metadata": {},
     "output_type": "execute_result"
    }
   ],
   "source": [
    "df = pd.read_csv('final_choosed_feature_v1.csv', index_col=0)\n",
    "df.columns"
   ]
  },
  {
   "cell_type": "code",
   "execution_count": 34,
   "id": "sophisticated-operator",
   "metadata": {},
   "outputs": [],
   "source": [
    "import numpy as np\n",
    "from sklearn.pipeline import make_pipeline\n",
    "from sklearn.preprocessing import StandardScaler\n",
    "from sklearn.svm import SVC\n",
    "import pandas as pd\n",
    "from sklearn import datasets\n",
    "from sklearn.model_selection import train_test_split as ts\n",
    "from sklearn.metrics import roc_curve, auc\n",
    "import matplotlib as mpl  \n",
    "import matplotlib.pyplot as plt\n",
    "import os\n",
    "plt.style.use('science')\n",
    "os.environ[\"PATH\"] += os.pathsep + '/Library/TeX/texbin'\n",
    "plt.style.use(['science','ieee'])\n",
    "\n",
    "def modify_label(label):\n",
    "    if label == 0:\n",
    "        return -1\n",
    "    return label\n",
    "\n",
    "def svm_train():\n",
    "    df = pd.read_csv('final_train_v4.csv')\n",
    "    df['label'] = df['label'].map(modify_label)\n",
    "    labels = df['label'].values\n",
    "    features = df.drop(['label', 'Unnamed: 0'], axis=1)\n",
    "    feature_arr = features.values\n",
    "    X_train,X_test,y_train,y_test = ts(feature_arr, labels, test_size=0.3)\n",
    "    clf = make_pipeline(StandardScaler(), SVC(gamma='auto'))\n",
    "    clf.fit(X_train, y_train)\n",
    "    preds = clf.predict(X_test)\n",
    "    targs = y_test \n",
    "    false_positive_rate,true_positive_rate,thresholds=roc_curve(targs, preds)\n",
    "    roc_auc=auc(false_positive_rate, true_positive_rate)\n",
    "    return false_positive_rate, true_positive_rate, thresholds\n",
    "\n",
    "    "
   ]
  },
  {
   "cell_type": "code",
   "execution_count": 10,
   "id": "greenhouse-description",
   "metadata": {},
   "outputs": [],
   "source": [
    "def deep_model_train():\n",
    "    feature_df = pd.read_csv('final_choosed_feature_v1.csv', index_col=0)\n",
    "    df_t2 = shuffle(feature_df)\n",
    "    return train_model(df_t2)\n",
    "    "
   ]
  },
  {
   "cell_type": "code",
   "execution_count": 41,
   "id": "9d15e4d3-b599-4bf7-8575-f99992c45df5",
   "metadata": {},
   "outputs": [],
   "source": [
    "import numpy as np\n",
    "from sklearn.pipeline import make_pipeline\n",
    "from sklearn.preprocessing import StandardScaler\n",
    "import pandas as pd\n",
    "from sklearn import datasets\n",
    "from sklearn.model_selection import train_test_split as ts\n",
    "from sklearn.metrics import roc_curve, auc\n",
    "import matplotlib as mpl  \n",
    "import matplotlib.pyplot as plt\n",
    "import os\n",
    "from sklearn.linear_model import LogisticRegression\n",
    "\n",
    "plt.style.use('science')\n",
    "os.environ[\"PATH\"] += os.pathsep + '/Library/TeX/texbin'\n",
    "plt.style.use(['science','ieee'])\n",
    "\n",
    "# 逻辑回归的训练数据\n",
    "def lr_train():\n",
    "    df = pd.read_csv('final_train_v4.csv', index_col=0)\n",
    "    labels = df['label'].values\n",
    "    features = df.drop(['label'], axis=1)\n",
    "    feature_arr = features.values\n",
    "    X_train,X_test,y_train,y_test = ts(feature_arr, labels, test_size=0.4)\n",
    "    \n",
    "    clf = LogisticRegression(random_state=0).fit(X_train, y_train)\n",
    "    preds = clf.predict(X_test)\n",
    "    \n",
    "    targs = y_test \n",
    "    false_positive_rate,true_positive_rate,thresholds=roc_curve(targs, preds)\n",
    "    roc_auc=auc(false_positive_rate, true_positive_rate)\n",
    "    return false_positive_rate, true_positive_rate, thresholds"
   ]
  },
  {
   "cell_type": "code",
   "execution_count": 16,
   "id": "22467152-1041-4600-9e45-87489270590e",
   "metadata": {},
   "outputs": [],
   "source": [
    "import numpy as np\n",
    "from sklearn.pipeline import make_pipeline\n",
    "from sklearn.preprocessing import StandardScaler\n",
    "import pandas as pd\n",
    "from sklearn import datasets\n",
    "from sklearn.model_selection import train_test_split as ts\n",
    "from sklearn.metrics import roc_curve, auc\n",
    "import matplotlib as mpl  \n",
    "import matplotlib.pyplot as plt\n",
    "import os\n",
    "from sklearn.neighbors import KNeighborsClassifier\n",
    "\n",
    "plt.style.use('science')\n",
    "os.environ[\"PATH\"] += os.pathsep + '/Library/TeX/texbin'\n",
    "plt.style.use(['science','ieee'])\n",
    "\n",
    "# knn的训练数据\n",
    "def knn_train():\n",
    "    df = pd.read_csv('final_train_v4.csv', index_col=0)\n",
    "    labels = df['label'].values\n",
    "    features = df.drop(['label'], axis=1)\n",
    "    feature_arr = features.values\n",
    "    X_train,X_test,y_train,y_test = ts(feature_arr, labels, test_size=0.3)\n",
    "    \n",
    "    knn = KNeighborsClassifier(n_neighbors=50)\n",
    "    \n",
    "    clf = knn.fit(X_train, y_train)\n",
    "    preds = knn.predict(X_test)\n",
    "    \n",
    "    targs = y_test \n",
    "    false_positive_rate,true_positive_rate,thresholds=roc_curve(targs, preds)\n",
    "    roc_auc=auc(false_positive_rate, true_positive_rate)\n",
    "    return false_positive_rate, true_positive_rate, thresholds"
   ]
  },
  {
   "cell_type": "code",
   "execution_count": 17,
   "id": "195406fd-a39a-4eb3-9dae-861c9e528010",
   "metadata": {},
   "outputs": [],
   "source": [
    "import numpy as np\n",
    "from sklearn.pipeline import make_pipeline\n",
    "from sklearn.preprocessing import StandardScaler\n",
    "import pandas as pd\n",
    "from sklearn import datasets\n",
    "from sklearn.model_selection import train_test_split as ts\n",
    "from sklearn.metrics import roc_curve, auc\n",
    "import matplotlib as mpl  \n",
    "import matplotlib.pyplot as plt\n",
    "import os\n",
    "from sklearn.ensemble import RandomForestClassifier\n",
    "\n",
    "\n",
    "plt.style.use('science')\n",
    "os.environ[\"PATH\"] += os.pathsep + '/Library/TeX/texbin'\n",
    "plt.style.use(['science','ieee'])\n",
    "\n",
    "# rf的训练数据\n",
    "def rf_train():\n",
    "    df = pd.read_csv('final_train_v4.csv', index_col=0)\n",
    "    labels = df['label'].values\n",
    "    features = df.drop(['label'], axis=1)\n",
    "    feature_arr = features.values\n",
    "    X_train,X_test,y_train,y_test = ts(feature_arr, labels, test_size=0.3)\n",
    "    \n",
    "    rf = RandomForestClassifier(random_state=0, n_estimators=1)\n",
    "    \n",
    "    clf = rf.fit(X_train, y_train)\n",
    "    preds = rf.predict(X_test)\n",
    "    \n",
    "    targs = y_test \n",
    "    false_positive_rate,true_positive_rate,thresholds=roc_curve(targs, preds)\n",
    "    roc_auc=auc(false_positive_rate, true_positive_rate)\n",
    "    return false_positive_rate, true_positive_rate, thresholds"
   ]
  },
  {
   "cell_type": "code",
   "execution_count": 44,
   "id": "angry-monday",
   "metadata": {},
   "outputs": [
    {
     "name": "stdout",
     "output_type": "stream",
     "text": [
      "Epoch 1/100\n",
      "     14/Unknown - 4s 301ms/step - loss: 1023.9271 - AUC: 0.4821 - accuracy: 0.8679 - Recall: 0.9643 - Precision: 0.8967"
     ]
    },
    {
     "name": "stderr",
     "output_type": "stream",
     "text": [
      "2021-10-04 20:42:11.007875: I tensorflow/core/profiler/lib/profiler_session.cc:184] Profiler session started.\n"
     ]
    },
    {
     "name": "stdout",
     "output_type": "stream",
     "text": [
      "     24/Unknown - 4s 181ms/step - loss: 841.7507 - AUC: 0.4790 - accuracy: 0.8668 - Recall: 0.9579 - Precision: 0.9011"
     ]
    },
    {
     "name": "stderr",
     "output_type": "stream",
     "text": [
      "2021-10-04 20:42:11.340266: W tensorflow/core/common_runtime/base_collective_executor.cc:216] BaseCollectiveExecutor::StartAbort Out of range: End of sequence\n",
      "\t [[{{node IteratorGetNext}}]]\n"
     ]
    },
    {
     "name": "stdout",
     "output_type": "stream",
     "text": [
      "24/24 [==============================] - 7s 290ms/step - loss: 841.7507 - AUC: 0.4790 - accuracy: 0.8668 - Recall: 0.9579 - Precision: 0.9011 - val_loss: 0.0000e+00 - val_AUC: 0.0000e+00 - val_accuracy: 0.0000e+00 - val_Recall: 0.0000e+00 - val_Precision: 0.0000e+00\n",
      "Epoch 2/100\n",
      "24/24 [==============================] - 1s 21ms/step - loss: 303.5745 - AUC: 0.5866 - accuracy: 0.8097 - Recall: 0.8621 - Precision: 0.9225 - val_loss: 160.5915 - val_AUC: 0.7701 - val_accuracy: 0.8067 - val_Recall: 0.8190 - val_Precision: 0.9556\n",
      "Epoch 3/100\n"
     ]
    },
    {
     "name": "stderr",
     "output_type": "stream",
     "text": [
      "2021-10-04 20:42:14.330760: W tensorflow/core/common_runtime/base_collective_executor.cc:216] BaseCollectiveExecutor::StartAbort Out of range: End of sequence\n",
      "\t [[{{node IteratorGetNext}}]]\n"
     ]
    },
    {
     "name": "stdout",
     "output_type": "stream",
     "text": [
      "24/24 [==============================] - 1s 22ms/step - loss: 191.3554 - AUC: 0.7435 - accuracy: 0.8245 - Recall: 0.8435 - Precision: 0.9576 - val_loss: 120.7014 - val_AUC: 0.8048 - val_accuracy: 0.8739 - val_Recall: 0.8952 - val_Precision: 0.9592\n",
      "Epoch 4/100\n"
     ]
    },
    {
     "name": "stderr",
     "output_type": "stream",
     "text": [
      "2021-10-04 20:42:14.855572: W tensorflow/core/common_runtime/base_collective_executor.cc:216] BaseCollectiveExecutor::StartAbort Out of range: End of sequence\n",
      "\t [[{{node IteratorGetNext}}]]\n"
     ]
    },
    {
     "name": "stdout",
     "output_type": "stream",
     "text": [
      "24/24 [==============================] - 1s 22ms/step - loss: 154.3777 - AUC: 0.8065 - accuracy: 0.8837 - Recall: 0.9019 - Precision: 0.9674 - val_loss: 90.2165 - val_AUC: 0.8418 - val_accuracy: 0.8908 - val_Recall: 0.9048 - val_Precision: 0.9694\n",
      "Epoch 5/100\n"
     ]
    },
    {
     "name": "stderr",
     "output_type": "stream",
     "text": [
      "2021-10-04 20:42:15.390074: W tensorflow/core/common_runtime/base_collective_executor.cc:216] BaseCollectiveExecutor::StartAbort Out of range: End of sequence\n",
      "\t [[{{node IteratorGetNext}}]]\n"
     ]
    },
    {
     "name": "stdout",
     "output_type": "stream",
     "text": [
      "24/24 [==============================] - 1s 22ms/step - loss: 117.6619 - AUC: 0.8094 - accuracy: 0.9070 - Recall: 0.9299 - Precision: 0.9660 - val_loss: 65.8356 - val_AUC: 0.8490 - val_accuracy: 0.8992 - val_Recall: 0.9143 - val_Precision: 0.9697\n",
      "Epoch 6/100\n"
     ]
    },
    {
     "name": "stderr",
     "output_type": "stream",
     "text": [
      "2021-10-04 20:42:15.914636: W tensorflow/core/common_runtime/base_collective_executor.cc:216] BaseCollectiveExecutor::StartAbort Out of range: End of sequence\n",
      "\t [[{{node IteratorGetNext}}]]\n"
     ]
    },
    {
     "name": "stdout",
     "output_type": "stream",
     "text": [
      "24/24 [==============================] - 1s 22ms/step - loss: 114.3682 - AUC: 0.8589 - accuracy: 0.9049 - Recall: 0.9159 - Precision: 0.9776 - val_loss: 44.9623 - val_AUC: 0.9214 - val_accuracy: 0.9160 - val_Recall: 0.9143 - val_Precision: 0.9897\n",
      "Epoch 7/100\n"
     ]
    },
    {
     "name": "stderr",
     "output_type": "stream",
     "text": [
      "2021-10-04 20:42:16.441696: W tensorflow/core/common_runtime/base_collective_executor.cc:216] BaseCollectiveExecutor::StartAbort Out of range: End of sequence\n",
      "\t [[{{node IteratorGetNext}}]]\n"
     ]
    },
    {
     "name": "stdout",
     "output_type": "stream",
     "text": [
      "24/24 [==============================] - 1s 21ms/step - loss: 98.5401 - AUC: 0.8690 - accuracy: 0.9239 - Recall: 0.9393 - Precision: 0.9757 - val_loss: 45.5896 - val_AUC: 0.8690 - val_accuracy: 0.9328 - val_Recall: 0.9524 - val_Precision: 0.9709\n",
      "Epoch 8/100\n"
     ]
    },
    {
     "name": "stderr",
     "output_type": "stream",
     "text": [
      "2021-10-04 20:42:16.957866: W tensorflow/core/common_runtime/base_collective_executor.cc:216] BaseCollectiveExecutor::StartAbort Out of range: End of sequence\n",
      "\t [[{{node IteratorGetNext}}]]\n"
     ]
    },
    {
     "name": "stdout",
     "output_type": "stream",
     "text": [
      "24/24 [==============================] - 1s 22ms/step - loss: 84.0978 - AUC: 0.8588 - accuracy: 0.9429 - Recall: 0.9626 - Precision: 0.9740 - val_loss: 31.1999 - val_AUC: 0.9405 - val_accuracy: 0.9496 - val_Recall: 0.9524 - val_Precision: 0.9901\n",
      "Epoch 9/100\n"
     ]
    },
    {
     "name": "stderr",
     "output_type": "stream",
     "text": [
      "2021-10-04 20:42:17.479405: W tensorflow/core/common_runtime/base_collective_executor.cc:216] BaseCollectiveExecutor::StartAbort Out of range: End of sequence\n",
      "\t [[{{node IteratorGetNext}}]]\n"
     ]
    },
    {
     "name": "stdout",
     "output_type": "stream",
     "text": [
      "24/24 [==============================] - 1s 22ms/step - loss: 70.1193 - AUC: 0.8889 - accuracy: 0.9429 - Recall: 0.9556 - Precision: 0.9808 - val_loss: 27.7250 - val_AUC: 0.9452 - val_accuracy: 0.9580 - val_Recall: 0.9619 - val_Precision: 0.9902\n",
      "Epoch 10/100\n"
     ]
    },
    {
     "name": "stderr",
     "output_type": "stream",
     "text": [
      "2021-10-04 20:42:17.995209: W tensorflow/core/common_runtime/base_collective_executor.cc:216] BaseCollectiveExecutor::StartAbort Out of range: End of sequence\n",
      "\t [[{{node IteratorGetNext}}]]\n"
     ]
    },
    {
     "name": "stdout",
     "output_type": "stream",
     "text": [
      "24/24 [==============================] - 1s 21ms/step - loss: 65.5865 - AUC: 0.8871 - accuracy: 0.9577 - Recall: 0.9743 - Precision: 0.9789 - val_loss: 22.7475 - val_AUC: 0.9452 - val_accuracy: 0.9580 - val_Recall: 0.9619 - val_Precision: 0.9902\n",
      "Epoch 11/100\n"
     ]
    },
    {
     "name": "stderr",
     "output_type": "stream",
     "text": [
      "2021-10-04 20:42:18.510231: W tensorflow/core/common_runtime/base_collective_executor.cc:216] BaseCollectiveExecutor::StartAbort Out of range: End of sequence\n",
      "\t [[{{node IteratorGetNext}}]]\n"
     ]
    },
    {
     "name": "stdout",
     "output_type": "stream",
     "text": [
      "24/24 [==============================] - 1s 21ms/step - loss: 58.5318 - AUC: 0.9082 - accuracy: 0.9598 - Recall: 0.9720 - Precision: 0.9835 - val_loss: 18.4803 - val_AUC: 0.9500 - val_accuracy: 0.9664 - val_Recall: 0.9714 - val_Precision: 0.9903\n",
      "Epoch 12/100\n"
     ]
    },
    {
     "name": "stderr",
     "output_type": "stream",
     "text": [
      "2021-10-04 20:42:19.021094: W tensorflow/core/common_runtime/base_collective_executor.cc:216] BaseCollectiveExecutor::StartAbort Out of range: End of sequence\n",
      "\t [[{{node IteratorGetNext}}]]\n"
     ]
    },
    {
     "name": "stdout",
     "output_type": "stream",
     "text": [
      "24/24 [==============================] - 1s 22ms/step - loss: 52.1613 - AUC: 0.9082 - accuracy: 0.9598 - Recall: 0.9720 - Precision: 0.9835 - val_loss: 16.6115 - val_AUC: 0.9548 - val_accuracy: 0.9748 - val_Recall: 0.9810 - val_Precision: 0.9904\n",
      "Epoch 13/100\n"
     ]
    },
    {
     "name": "stderr",
     "output_type": "stream",
     "text": [
      "2021-10-04 20:42:19.539058: W tensorflow/core/common_runtime/base_collective_executor.cc:216] BaseCollectiveExecutor::StartAbort Out of range: End of sequence\n",
      "\t [[{{node IteratorGetNext}}]]\n"
     ]
    },
    {
     "name": "stdout",
     "output_type": "stream",
     "text": [
      "24/24 [==============================] - 1s 21ms/step - loss: 46.2189 - AUC: 0.8994 - accuracy: 0.9619 - Recall: 0.9766 - Precision: 0.9812 - val_loss: 13.8771 - val_AUC: 0.9548 - val_accuracy: 0.9748 - val_Recall: 0.9810 - val_Precision: 0.9904\n",
      "Epoch 14/100\n"
     ]
    },
    {
     "name": "stderr",
     "output_type": "stream",
     "text": [
      "2021-10-04 20:42:20.049456: W tensorflow/core/common_runtime/base_collective_executor.cc:216] BaseCollectiveExecutor::StartAbort Out of range: End of sequence\n",
      "\t [[{{node IteratorGetNext}}]]\n"
     ]
    },
    {
     "name": "stdout",
     "output_type": "stream",
     "text": [
      "24/24 [==============================] - 1s 22ms/step - loss: 42.2067 - AUC: 0.9293 - accuracy: 0.9619 - Recall: 0.9696 - Precision: 0.9881 - val_loss: 13.1517 - val_AUC: 0.9548 - val_accuracy: 0.9748 - val_Recall: 0.9810 - val_Precision: 0.9904\n",
      "Epoch 15/100\n"
     ]
    },
    {
     "name": "stderr",
     "output_type": "stream",
     "text": [
      "2021-10-04 20:42:20.568939: W tensorflow/core/common_runtime/base_collective_executor.cc:216] BaseCollectiveExecutor::StartAbort Out of range: End of sequence\n",
      "\t [[{{node IteratorGetNext}}]]\n"
     ]
    },
    {
     "name": "stdout",
     "output_type": "stream",
     "text": [
      "24/24 [==============================] - 1s 23ms/step - loss: 36.4819 - AUC: 0.8907 - accuracy: 0.9641 - Recall: 0.9813 - Precision: 0.9790 - val_loss: 10.7654 - val_AUC: 0.9548 - val_accuracy: 0.9748 - val_Recall: 0.9810 - val_Precision: 0.9904\n",
      "Epoch 16/100\n"
     ]
    },
    {
     "name": "stderr",
     "output_type": "stream",
     "text": [
      "2021-10-04 20:42:21.123911: W tensorflow/core/common_runtime/base_collective_executor.cc:216] BaseCollectiveExecutor::StartAbort Out of range: End of sequence\n",
      "\t [[{{node IteratorGetNext}}]]\n"
     ]
    },
    {
     "name": "stdout",
     "output_type": "stream",
     "text": [
      "24/24 [==============================] - 1s 21ms/step - loss: 34.0291 - AUC: 0.9328 - accuracy: 0.9683 - Recall: 0.9766 - Precision: 0.9882 - val_loss: 8.4891 - val_AUC: 0.9905 - val_accuracy: 0.9832 - val_Recall: 0.9810 - val_Precision: 1.0000\n",
      "Epoch 17/100\n"
     ]
    },
    {
     "name": "stderr",
     "output_type": "stream",
     "text": [
      "2021-10-04 20:42:21.640468: W tensorflow/core/common_runtime/base_collective_executor.cc:216] BaseCollectiveExecutor::StartAbort Out of range: End of sequence\n",
      "\t [[{{node IteratorGetNext}}]]\n"
     ]
    },
    {
     "name": "stdout",
     "output_type": "stream",
     "text": [
      "24/24 [==============================] - 1s 23ms/step - loss: 28.0757 - AUC: 0.9351 - accuracy: 0.9725 - Recall: 0.9813 - Precision: 0.9882 - val_loss: 7.2735 - val_AUC: 0.9548 - val_accuracy: 0.9748 - val_Recall: 0.9810 - val_Precision: 0.9904\n"
     ]
    },
    {
     "name": "stderr",
     "output_type": "stream",
     "text": [
      "2021-10-04 20:42:22.166116: W tensorflow/core/common_runtime/base_collective_executor.cc:216] BaseCollectiveExecutor::StartAbort Out of range: End of sequence\n",
      "\t [[{{node IteratorGetNext}}]]\n"
     ]
    },
    {
     "name": "stdout",
     "output_type": "stream",
     "text": [
      "Epoch 18/100\n",
      "24/24 [==============================] - 1s 21ms/step - loss: 25.0212 - AUC: 0.9164 - accuracy: 0.9746 - Recall: 0.9883 - Precision: 0.9837 - val_loss: 5.3000 - val_AUC: 0.9548 - val_accuracy: 0.9748 - val_Recall: 0.9810 - val_Precision: 0.9904\n",
      "Epoch 19/100\n"
     ]
    },
    {
     "name": "stderr",
     "output_type": "stream",
     "text": [
      "2021-10-04 20:42:22.713589: W tensorflow/core/common_runtime/base_collective_executor.cc:216] BaseCollectiveExecutor::StartAbort Out of range: End of sequence\n",
      "\t [[{{node IteratorGetNext}}]]\n"
     ]
    },
    {
     "name": "stdout",
     "output_type": "stream",
     "text": [
      "24/24 [==============================] - 1s 22ms/step - loss: 21.9985 - AUC: 0.9374 - accuracy: 0.9767 - Recall: 0.9860 - Precision: 0.9883 - val_loss: 6.0145 - val_AUC: 0.9905 - val_accuracy: 0.9832 - val_Recall: 0.9810 - val_Precision: 1.0000\n",
      "Epoch 20/100\n"
     ]
    },
    {
     "name": "stderr",
     "output_type": "stream",
     "text": [
      "2021-10-04 20:42:23.241356: W tensorflow/core/common_runtime/base_collective_executor.cc:216] BaseCollectiveExecutor::StartAbort Out of range: End of sequence\n",
      "\t [[{{node IteratorGetNext}}]]\n"
     ]
    },
    {
     "name": "stdout",
     "output_type": "stream",
     "text": [
      "24/24 [==============================] - 1s 21ms/step - loss: 21.6192 - AUC: 0.9386 - accuracy: 0.9789 - Recall: 0.9883 - Precision: 0.9883 - val_loss: 4.7356 - val_AUC: 0.9905 - val_accuracy: 0.9832 - val_Recall: 0.9810 - val_Precision: 1.0000\n",
      "Epoch 21/100\n"
     ]
    },
    {
     "name": "stderr",
     "output_type": "stream",
     "text": [
      "2021-10-04 20:42:23.748456: W tensorflow/core/common_runtime/base_collective_executor.cc:216] BaseCollectiveExecutor::StartAbort Out of range: End of sequence\n",
      "\t [[{{node IteratorGetNext}}]]\n"
     ]
    },
    {
     "name": "stdout",
     "output_type": "stream",
     "text": [
      "24/24 [==============================] - 1s 22ms/step - loss: 18.0082 - AUC: 0.9719 - accuracy: 0.9852 - Recall: 0.9883 - Precision: 0.9953 - val_loss: 3.8738 - val_AUC: 0.9905 - val_accuracy: 0.9832 - val_Recall: 0.9810 - val_Precision: 1.0000\n",
      "Epoch 22/100\n"
     ]
    },
    {
     "name": "stderr",
     "output_type": "stream",
     "text": [
      "2021-10-04 20:42:24.269748: W tensorflow/core/common_runtime/base_collective_executor.cc:216] BaseCollectiveExecutor::StartAbort Out of range: End of sequence\n",
      "\t [[{{node IteratorGetNext}}]]\n"
     ]
    },
    {
     "name": "stdout",
     "output_type": "stream",
     "text": [
      "24/24 [==============================] - 1s 22ms/step - loss: 11.0281 - AUC: 0.9398 - accuracy: 0.9810 - Recall: 0.9907 - Precision: 0.9883 - val_loss: 1.6976 - val_AUC: 0.9905 - val_accuracy: 0.9832 - val_Recall: 0.9810 - val_Precision: 1.0000\n",
      "Epoch 23/100\n"
     ]
    },
    {
     "name": "stderr",
     "output_type": "stream",
     "text": [
      "2021-10-04 20:42:24.789914: W tensorflow/core/common_runtime/base_collective_executor.cc:216] BaseCollectiveExecutor::StartAbort Out of range: End of sequence\n",
      "\t [[{{node IteratorGetNext}}]]\n"
     ]
    },
    {
     "name": "stdout",
     "output_type": "stream",
     "text": [
      "24/24 [==============================] - 1s 21ms/step - loss: 13.4719 - AUC: 0.9508 - accuracy: 0.9831 - Recall: 0.9907 - Precision: 0.9907 - val_loss: 1.9649 - val_AUC: 0.9905 - val_accuracy: 0.9832 - val_Recall: 0.9810 - val_Precision: 1.0000\n",
      "Epoch 24/100\n"
     ]
    },
    {
     "name": "stderr",
     "output_type": "stream",
     "text": [
      "2021-10-04 20:42:25.301859: W tensorflow/core/common_runtime/base_collective_executor.cc:216] BaseCollectiveExecutor::StartAbort Out of range: End of sequence\n",
      "\t [[{{node IteratorGetNext}}]]\n"
     ]
    },
    {
     "name": "stdout",
     "output_type": "stream",
     "text": [
      "24/24 [==============================] - 1s 23ms/step - loss: 10.5984 - AUC: 0.9842 - accuracy: 0.9894 - Recall: 0.9907 - Precision: 0.9976 - val_loss: 0.5628 - val_AUC: 0.9952 - val_accuracy: 0.9916 - val_Recall: 0.9905 - val_Precision: 1.0000\n",
      "Epoch 25/100\n"
     ]
    },
    {
     "name": "stderr",
     "output_type": "stream",
     "text": [
      "2021-10-04 20:42:25.843888: W tensorflow/core/common_runtime/base_collective_executor.cc:216] BaseCollectiveExecutor::StartAbort Out of range: End of sequence\n",
      "\t [[{{node IteratorGetNext}}]]\n"
     ]
    },
    {
     "name": "stdout",
     "output_type": "stream",
     "text": [
      "24/24 [==============================] - 1s 21ms/step - loss: 10.6436 - AUC: 0.9310 - accuracy: 0.9831 - Recall: 0.9953 - Precision: 0.9861 - val_loss: 0.6617 - val_AUC: 0.9952 - val_accuracy: 0.9916 - val_Recall: 0.9905 - val_Precision: 1.0000\n",
      "Epoch 26/100\n"
     ]
    },
    {
     "name": "stderr",
     "output_type": "stream",
     "text": [
      "2021-10-04 20:42:26.356231: W tensorflow/core/common_runtime/base_collective_executor.cc:216] BaseCollectiveExecutor::StartAbort Out of range: End of sequence\n",
      "\t [[{{node IteratorGetNext}}]]\n"
     ]
    },
    {
     "name": "stdout",
     "output_type": "stream",
     "text": [
      "24/24 [==============================] - 1s 22ms/step - loss: 8.9648 - AUC: 0.9743 - accuracy: 0.9894 - Recall: 0.9930 - Precision: 0.9953 - val_loss: 0.5239 - val_AUC: 0.9643 - val_accuracy: 0.9916 - val_Recall: 1.0000 - val_Precision: 0.9906\n",
      "Epoch 27/100\n"
     ]
    },
    {
     "name": "stderr",
     "output_type": "stream",
     "text": [
      "2021-10-04 20:42:26.874257: W tensorflow/core/common_runtime/base_collective_executor.cc:216] BaseCollectiveExecutor::StartAbort Out of range: End of sequence\n",
      "\t [[{{node IteratorGetNext}}]]\n"
     ]
    },
    {
     "name": "stdout",
     "output_type": "stream",
     "text": [
      "24/24 [==============================] - 1s 21ms/step - loss: 8.9496 - AUC: 0.9643 - accuracy: 0.9894 - Recall: 0.9953 - Precision: 0.9930 - val_loss: 0.2287 - val_AUC: 0.9952 - val_accuracy: 0.9916 - val_Recall: 0.9905 - val_Precision: 1.0000\n",
      "Epoch 28/100\n"
     ]
    },
    {
     "name": "stderr",
     "output_type": "stream",
     "text": [
      "2021-10-04 20:42:27.377895: W tensorflow/core/common_runtime/base_collective_executor.cc:216] BaseCollectiveExecutor::StartAbort Out of range: End of sequence\n",
      "\t [[{{node IteratorGetNext}}]]\n"
     ]
    },
    {
     "name": "stdout",
     "output_type": "stream",
     "text": [
      "24/24 [==============================] - 1s 21ms/step - loss: 5.8453 - AUC: 0.9643 - accuracy: 0.9894 - Recall: 0.9953 - Precision: 0.9930 - val_loss: 0.7984 - val_AUC: 0.9857 - val_accuracy: 0.9748 - val_Recall: 0.9714 - val_Precision: 1.0000\n",
      "Epoch 29/100\n"
     ]
    },
    {
     "name": "stderr",
     "output_type": "stream",
     "text": [
      "2021-10-04 20:42:27.878528: W tensorflow/core/common_runtime/base_collective_executor.cc:216] BaseCollectiveExecutor::StartAbort Out of range: End of sequence\n",
      "\t [[{{node IteratorGetNext}}]]\n"
     ]
    },
    {
     "name": "stdout",
     "output_type": "stream",
     "text": [
      "24/24 [==============================] - 0s 21ms/step - loss: 5.1400 - AUC: 0.9643 - accuracy: 0.9894 - Recall: 0.9953 - Precision: 0.9930 - val_loss: 0.0018 - val_AUC: 1.0000 - val_accuracy: 1.0000 - val_Recall: 1.0000 - val_Precision: 1.0000\n",
      "Epoch 30/100\n"
     ]
    },
    {
     "name": "stderr",
     "output_type": "stream",
     "text": [
      "2021-10-04 20:42:28.386267: W tensorflow/core/common_runtime/base_collective_executor.cc:216] BaseCollectiveExecutor::StartAbort Out of range: End of sequence\n",
      "\t [[{{node IteratorGetNext}}]]\n"
     ]
    },
    {
     "name": "stdout",
     "output_type": "stream",
     "text": [
      "24/24 [==============================] - 1s 21ms/step - loss: 3.8745 - AUC: 0.9754 - accuracy: 0.9915 - Recall: 0.9953 - Precision: 0.9953 - val_loss: 3.5607e-04 - val_AUC: 1.0000 - val_accuracy: 1.0000 - val_Recall: 1.0000 - val_Precision: 1.0000\n",
      "Epoch 31/100\n"
     ]
    },
    {
     "name": "stderr",
     "output_type": "stream",
     "text": [
      "2021-10-04 20:42:28.887614: W tensorflow/core/common_runtime/base_collective_executor.cc:216] BaseCollectiveExecutor::StartAbort Out of range: End of sequence\n",
      "\t [[{{node IteratorGetNext}}]]\n"
     ]
    },
    {
     "name": "stdout",
     "output_type": "stream",
     "text": [
      "24/24 [==============================] - 1s 21ms/step - loss: 3.8301 - AUC: 0.9521 - accuracy: 0.9852 - Recall: 0.9930 - Precision: 0.9907 - val_loss: 1.2850 - val_AUC: 0.9905 - val_accuracy: 0.9832 - val_Recall: 0.9810 - val_Precision: 1.0000\n",
      "Epoch 32/100\n"
     ]
    },
    {
     "name": "stderr",
     "output_type": "stream",
     "text": [
      "2021-10-04 20:42:29.389911: W tensorflow/core/common_runtime/base_collective_executor.cc:216] BaseCollectiveExecutor::StartAbort Out of range: End of sequence\n",
      "\t [[{{node IteratorGetNext}}]]\n"
     ]
    },
    {
     "name": "stdout",
     "output_type": "stream",
     "text": [
      "24/24 [==============================] - 0s 21ms/step - loss: 3.7225 - AUC: 0.9521 - accuracy: 0.9852 - Recall: 0.9930 - Precision: 0.9907 - val_loss: 0.7062 - val_AUC: 0.9595 - val_accuracy: 0.9832 - val_Recall: 0.9905 - val_Precision: 0.9905\n",
      "Epoch 33/100\n"
     ]
    },
    {
     "name": "stderr",
     "output_type": "stream",
     "text": [
      "2021-10-04 20:42:29.888659: W tensorflow/core/common_runtime/base_collective_executor.cc:216] BaseCollectiveExecutor::StartAbort Out of range: End of sequence\n",
      "\t [[{{node IteratorGetNext}}]]\n"
     ]
    },
    {
     "name": "stdout",
     "output_type": "stream",
     "text": [
      "24/24 [==============================] - 0s 21ms/step - loss: 3.4852 - AUC: 0.9743 - accuracy: 0.9894 - Recall: 0.9930 - Precision: 0.9953 - val_loss: 3.6225 - val_AUC: 0.9905 - val_accuracy: 0.9832 - val_Recall: 0.9810 - val_Precision: 1.0000\n",
      "Epoch 34/100\n"
     ]
    },
    {
     "name": "stderr",
     "output_type": "stream",
     "text": [
      "2021-10-04 20:42:30.386122: W tensorflow/core/common_runtime/base_collective_executor.cc:216] BaseCollectiveExecutor::StartAbort Out of range: End of sequence\n",
      "\t [[{{node IteratorGetNext}}]]\n"
     ]
    },
    {
     "name": "stdout",
     "output_type": "stream",
     "text": [
      "24/24 [==============================] - 1s 21ms/step - loss: 1.7443 - AUC: 0.9667 - accuracy: 0.9937 - Recall: 1.0000 - Precision: 0.9930 - val_loss: 4.8220 - val_AUC: 0.9905 - val_accuracy: 0.9832 - val_Recall: 0.9810 - val_Precision: 1.0000\n",
      "Epoch 35/100\n"
     ]
    },
    {
     "name": "stderr",
     "output_type": "stream",
     "text": [
      "2021-10-04 20:42:30.883670: W tensorflow/core/common_runtime/base_collective_executor.cc:216] BaseCollectiveExecutor::StartAbort Out of range: End of sequence\n",
      "\t [[{{node IteratorGetNext}}]]\n"
     ]
    },
    {
     "name": "stdout",
     "output_type": "stream",
     "text": [
      "24/24 [==============================] - 0s 21ms/step - loss: 2.9403 - AUC: 0.9866 - accuracy: 0.9937 - Recall: 0.9953 - Precision: 0.9977 - val_loss: 4.4840 - val_AUC: 0.9905 - val_accuracy: 0.9832 - val_Recall: 0.9810 - val_Precision: 1.0000\n",
      "Epoch 36/100\n"
     ]
    },
    {
     "name": "stderr",
     "output_type": "stream",
     "text": [
      "2021-10-04 20:42:31.387284: W tensorflow/core/common_runtime/base_collective_executor.cc:216] BaseCollectiveExecutor::StartAbort Out of range: End of sequence\n",
      "\t [[{{node IteratorGetNext}}]]\n"
     ]
    },
    {
     "name": "stdout",
     "output_type": "stream",
     "text": [
      "24/24 [==============================] - 0s 21ms/step - loss: 1.1560 - AUC: 0.9889 - accuracy: 0.9979 - Recall: 1.0000 - Precision: 0.9977 - val_loss: 5.6701 - val_AUC: 0.9905 - val_accuracy: 0.9832 - val_Recall: 0.9810 - val_Precision: 1.0000\n",
      "Epoch 37/100\n"
     ]
    },
    {
     "name": "stderr",
     "output_type": "stream",
     "text": [
      "2021-10-04 20:42:31.886067: W tensorflow/core/common_runtime/base_collective_executor.cc:216] BaseCollectiveExecutor::StartAbort Out of range: End of sequence\n",
      "\t [[{{node IteratorGetNext}}]]\n"
     ]
    },
    {
     "name": "stdout",
     "output_type": "stream",
     "text": [
      "24/24 [==============================] - 1s 21ms/step - loss: 1.1529 - AUC: 0.9877 - accuracy: 0.9958 - Recall: 0.9977 - Precision: 0.9977 - val_loss: 5.7999 - val_AUC: 0.9905 - val_accuracy: 0.9832 - val_Recall: 0.9810 - val_Precision: 1.0000\n",
      "Epoch 38/100\n"
     ]
    },
    {
     "name": "stderr",
     "output_type": "stream",
     "text": [
      "2021-10-04 20:42:32.388834: W tensorflow/core/common_runtime/base_collective_executor.cc:216] BaseCollectiveExecutor::StartAbort Out of range: End of sequence\n",
      "\t [[{{node IteratorGetNext}}]]\n"
     ]
    },
    {
     "name": "stdout",
     "output_type": "stream",
     "text": [
      "24/24 [==============================] - 1s 21ms/step - loss: 0.7787 - AUC: 0.9889 - accuracy: 0.9979 - Recall: 1.0000 - Precision: 0.9977 - val_loss: 6.8824 - val_AUC: 0.9905 - val_accuracy: 0.9832 - val_Recall: 0.9810 - val_Precision: 1.0000\n",
      "Epoch 39/100\n"
     ]
    },
    {
     "name": "stderr",
     "output_type": "stream",
     "text": [
      "2021-10-04 20:42:32.889595: W tensorflow/core/common_runtime/base_collective_executor.cc:216] BaseCollectiveExecutor::StartAbort Out of range: End of sequence\n",
      "\t [[{{node IteratorGetNext}}]]\n"
     ]
    },
    {
     "name": "stdout",
     "output_type": "stream",
     "text": [
      "24/24 [==============================] - 1s 21ms/step - loss: 0.6944 - AUC: 0.9866 - accuracy: 0.9937 - Recall: 0.9953 - Precision: 0.9977 - val_loss: 7.1610 - val_AUC: 0.9905 - val_accuracy: 0.9832 - val_Recall: 0.9810 - val_Precision: 1.0000\n",
      "Epoch 40/100\n"
     ]
    },
    {
     "name": "stderr",
     "output_type": "stream",
     "text": [
      "2021-10-04 20:42:33.391835: W tensorflow/core/common_runtime/base_collective_executor.cc:216] BaseCollectiveExecutor::StartAbort Out of range: End of sequence\n",
      "\t [[{{node IteratorGetNext}}]]\n"
     ]
    },
    {
     "name": "stdout",
     "output_type": "stream",
     "text": [
      "24/24 [==============================] - 0s 21ms/step - loss: 1.0093 - AUC: 0.9778 - accuracy: 0.9958 - Recall: 1.0000 - Precision: 0.9953 - val_loss: 7.1685 - val_AUC: 0.9905 - val_accuracy: 0.9832 - val_Recall: 0.9810 - val_Precision: 1.0000\n",
      "Epoch 41/100\n"
     ]
    },
    {
     "name": "stderr",
     "output_type": "stream",
     "text": [
      "2021-10-04 20:42:33.889703: W tensorflow/core/common_runtime/base_collective_executor.cc:216] BaseCollectiveExecutor::StartAbort Out of range: End of sequence\n",
      "\t [[{{node IteratorGetNext}}]]\n"
     ]
    },
    {
     "name": "stdout",
     "output_type": "stream",
     "text": [
      "24/24 [==============================] - 1s 21ms/step - loss: 0.3497 - AUC: 0.9889 - accuracy: 0.9979 - Recall: 1.0000 - Precision: 0.9977 - val_loss: 9.8166 - val_AUC: 0.9905 - val_accuracy: 0.9832 - val_Recall: 0.9810 - val_Precision: 1.0000\n",
      "Epoch 42/100\n"
     ]
    },
    {
     "name": "stderr",
     "output_type": "stream",
     "text": [
      "2021-10-04 20:42:34.391920: W tensorflow/core/common_runtime/base_collective_executor.cc:216] BaseCollectiveExecutor::StartAbort Out of range: End of sequence\n",
      "\t [[{{node IteratorGetNext}}]]\n"
     ]
    },
    {
     "name": "stdout",
     "output_type": "stream",
     "text": [
      "24/24 [==============================] - 0s 21ms/step - loss: 0.3048 - AUC: 0.9988 - accuracy: 0.9979 - Recall: 0.9977 - Precision: 1.0000 - val_loss: 8.3195 - val_AUC: 0.9905 - val_accuracy: 0.9832 - val_Recall: 0.9810 - val_Precision: 1.0000\n",
      "Epoch 43/100\n"
     ]
    },
    {
     "name": "stderr",
     "output_type": "stream",
     "text": [
      "2021-10-04 20:42:34.888563: W tensorflow/core/common_runtime/base_collective_executor.cc:216] BaseCollectiveExecutor::StartAbort Out of range: End of sequence\n",
      "\t [[{{node IteratorGetNext}}]]\n"
     ]
    },
    {
     "name": "stdout",
     "output_type": "stream",
     "text": [
      "24/24 [==============================] - 1s 21ms/step - loss: 0.5890 - AUC: 0.9778 - accuracy: 0.9958 - Recall: 1.0000 - Precision: 0.9953 - val_loss: 9.5552 - val_AUC: 0.9905 - val_accuracy: 0.9832 - val_Recall: 0.9810 - val_Precision: 1.0000\n",
      "Epoch 44/100\n"
     ]
    },
    {
     "name": "stderr",
     "output_type": "stream",
     "text": [
      "2021-10-04 20:42:35.385817: W tensorflow/core/common_runtime/base_collective_executor.cc:216] BaseCollectiveExecutor::StartAbort Out of range: End of sequence\n",
      "\t [[{{node IteratorGetNext}}]]\n"
     ]
    },
    {
     "name": "stdout",
     "output_type": "stream",
     "text": [
      "24/24 [==============================] - 1s 21ms/step - loss: 0.2651 - AUC: 0.9988 - accuracy: 0.9979 - Recall: 0.9977 - Precision: 1.0000 - val_loss: 9.0025 - val_AUC: 0.9905 - val_accuracy: 0.9832 - val_Recall: 0.9810 - val_Precision: 1.0000\n",
      "Epoch 45/100\n"
     ]
    },
    {
     "name": "stderr",
     "output_type": "stream",
     "text": [
      "2021-10-04 20:42:35.901560: W tensorflow/core/common_runtime/base_collective_executor.cc:216] BaseCollectiveExecutor::StartAbort Out of range: End of sequence\n",
      "\t [[{{node IteratorGetNext}}]]\n"
     ]
    },
    {
     "name": "stdout",
     "output_type": "stream",
     "text": [
      "24/24 [==============================] - 1s 21ms/step - loss: 0.1724 - AUC: 0.9889 - accuracy: 0.9979 - Recall: 1.0000 - Precision: 0.9977 - val_loss: 9.5641 - val_AUC: 0.9905 - val_accuracy: 0.9832 - val_Recall: 0.9810 - val_Precision: 1.0000\n",
      "Epoch 46/100\n"
     ]
    },
    {
     "name": "stderr",
     "output_type": "stream",
     "text": [
      "2021-10-04 20:42:36.407904: W tensorflow/core/common_runtime/base_collective_executor.cc:216] BaseCollectiveExecutor::StartAbort Out of range: End of sequence\n",
      "\t [[{{node IteratorGetNext}}]]\n"
     ]
    },
    {
     "name": "stdout",
     "output_type": "stream",
     "text": [
      "24/24 [==============================] - 1s 21ms/step - loss: 1.1110e-13 - AUC: 1.0000 - accuracy: 1.0000 - Recall: 1.0000 - Precision: 1.0000 - val_loss: 9.8130 - val_AUC: 0.9905 - val_accuracy: 0.9832 - val_Recall: 0.9810 - val_Precision: 1.0000\n",
      "Epoch 47/100\n"
     ]
    },
    {
     "name": "stderr",
     "output_type": "stream",
     "text": [
      "2021-10-04 20:42:36.911259: W tensorflow/core/common_runtime/base_collective_executor.cc:216] BaseCollectiveExecutor::StartAbort Out of range: End of sequence\n",
      "\t [[{{node IteratorGetNext}}]]\n"
     ]
    },
    {
     "name": "stdout",
     "output_type": "stream",
     "text": [
      "24/24 [==============================] - 1s 21ms/step - loss: 1.4005e-09 - AUC: 1.0000 - accuracy: 1.0000 - Recall: 1.0000 - Precision: 1.0000 - val_loss: 9.8363 - val_AUC: 0.9905 - val_accuracy: 0.9832 - val_Recall: 0.9810 - val_Precision: 1.0000\n",
      "Epoch 48/100\n"
     ]
    },
    {
     "name": "stderr",
     "output_type": "stream",
     "text": [
      "2021-10-04 20:42:37.410808: W tensorflow/core/common_runtime/base_collective_executor.cc:216] BaseCollectiveExecutor::StartAbort Out of range: End of sequence\n",
      "\t [[{{node IteratorGetNext}}]]\n"
     ]
    },
    {
     "name": "stdout",
     "output_type": "stream",
     "text": [
      "24/24 [==============================] - 0s 21ms/step - loss: 2.1019e-09 - AUC: 1.0000 - accuracy: 1.0000 - Recall: 1.0000 - Precision: 1.0000 - val_loss: 9.8783 - val_AUC: 0.9905 - val_accuracy: 0.9832 - val_Recall: 0.9810 - val_Precision: 1.0000\n",
      "Epoch 49/100\n"
     ]
    },
    {
     "name": "stderr",
     "output_type": "stream",
     "text": [
      "2021-10-04 20:42:37.908186: W tensorflow/core/common_runtime/base_collective_executor.cc:216] BaseCollectiveExecutor::StartAbort Out of range: End of sequence\n",
      "\t [[{{node IteratorGetNext}}]]\n"
     ]
    },
    {
     "name": "stdout",
     "output_type": "stream",
     "text": [
      "24/24 [==============================] - 0s 21ms/step - loss: 2.6775e-09 - AUC: 1.0000 - accuracy: 1.0000 - Recall: 1.0000 - Precision: 1.0000 - val_loss: 9.8383 - val_AUC: 0.9905 - val_accuracy: 0.9832 - val_Recall: 0.9810 - val_Precision: 1.0000\n",
      "Epoch 50/100\n"
     ]
    },
    {
     "name": "stderr",
     "output_type": "stream",
     "text": [
      "2021-10-04 20:42:38.404831: W tensorflow/core/common_runtime/base_collective_executor.cc:216] BaseCollectiveExecutor::StartAbort Out of range: End of sequence\n",
      "\t [[{{node IteratorGetNext}}]]\n"
     ]
    },
    {
     "name": "stdout",
     "output_type": "stream",
     "text": [
      "24/24 [==============================] - 0s 21ms/step - loss: 1.0990e-10 - AUC: 1.0000 - accuracy: 1.0000 - Recall: 1.0000 - Precision: 1.0000 - val_loss: 9.8383 - val_AUC: 0.9905 - val_accuracy: 0.9832 - val_Recall: 0.9810 - val_Precision: 1.0000\n",
      "Epoch 51/100\n"
     ]
    },
    {
     "name": "stderr",
     "output_type": "stream",
     "text": [
      "2021-10-04 20:42:38.900816: W tensorflow/core/common_runtime/base_collective_executor.cc:216] BaseCollectiveExecutor::StartAbort Out of range: End of sequence\n",
      "\t [[{{node IteratorGetNext}}]]\n"
     ]
    },
    {
     "name": "stdout",
     "output_type": "stream",
     "text": [
      "24/24 [==============================] - 0s 21ms/step - loss: 2.7089e-09 - AUC: 1.0000 - accuracy: 1.0000 - Recall: 1.0000 - Precision: 1.0000 - val_loss: 9.8383 - val_AUC: 0.9905 - val_accuracy: 0.9832 - val_Recall: 0.9810 - val_Precision: 1.0000\n",
      "Epoch 52/100\n"
     ]
    },
    {
     "name": "stderr",
     "output_type": "stream",
     "text": [
      "2021-10-04 20:42:39.398947: W tensorflow/core/common_runtime/base_collective_executor.cc:216] BaseCollectiveExecutor::StartAbort Out of range: End of sequence\n",
      "\t [[{{node IteratorGetNext}}]]\n"
     ]
    },
    {
     "name": "stdout",
     "output_type": "stream",
     "text": [
      "24/24 [==============================] - 1s 21ms/step - loss: 2.7089e-09 - AUC: 1.0000 - accuracy: 1.0000 - Recall: 1.0000 - Precision: 1.0000 - val_loss: 10.3160 - val_AUC: 0.9905 - val_accuracy: 0.9832 - val_Recall: 0.9810 - val_Precision: 1.0000\n",
      "Epoch 53/100\n"
     ]
    },
    {
     "name": "stderr",
     "output_type": "stream",
     "text": [
      "2021-10-04 20:42:39.899128: W tensorflow/core/common_runtime/base_collective_executor.cc:216] BaseCollectiveExecutor::StartAbort Out of range: End of sequence\n",
      "\t [[{{node IteratorGetNext}}]]\n"
     ]
    },
    {
     "name": "stdout",
     "output_type": "stream",
     "text": [
      "24/24 [==============================] - 0s 21ms/step - loss: 2.7089e-09 - AUC: 1.0000 - accuracy: 1.0000 - Recall: 1.0000 - Precision: 1.0000 - val_loss: 9.8383 - val_AUC: 0.9905 - val_accuracy: 0.9832 - val_Recall: 0.9810 - val_Precision: 1.0000\n",
      "Epoch 54/100\n"
     ]
    },
    {
     "name": "stderr",
     "output_type": "stream",
     "text": [
      "2021-10-04 20:42:40.402460: W tensorflow/core/common_runtime/base_collective_executor.cc:216] BaseCollectiveExecutor::StartAbort Out of range: End of sequence\n",
      "\t [[{{node IteratorGetNext}}]]\n"
     ]
    },
    {
     "name": "stdout",
     "output_type": "stream",
     "text": [
      "24/24 [==============================] - 0s 21ms/step - loss: 2.7089e-09 - AUC: 1.0000 - accuracy: 1.0000 - Recall: 1.0000 - Precision: 1.0000 - val_loss: 9.8785 - val_AUC: 0.9905 - val_accuracy: 0.9832 - val_Recall: 0.9810 - val_Precision: 1.0000\n",
      "Epoch 55/100\n"
     ]
    },
    {
     "name": "stderr",
     "output_type": "stream",
     "text": [
      "2021-10-04 20:42:40.901774: W tensorflow/core/common_runtime/base_collective_executor.cc:216] BaseCollectiveExecutor::StartAbort Out of range: End of sequence\n",
      "\t [[{{node IteratorGetNext}}]]\n"
     ]
    },
    {
     "name": "stdout",
     "output_type": "stream",
     "text": [
      "24/24 [==============================] - 0s 21ms/step - loss: 2.7089e-09 - AUC: 1.0000 - accuracy: 1.0000 - Recall: 1.0000 - Precision: 1.0000 - val_loss: 9.8383 - val_AUC: 0.9905 - val_accuracy: 0.9832 - val_Recall: 0.9810 - val_Precision: 1.0000\n",
      "Epoch 56/100\n"
     ]
    },
    {
     "name": "stderr",
     "output_type": "stream",
     "text": [
      "2021-10-04 20:42:41.398833: W tensorflow/core/common_runtime/base_collective_executor.cc:216] BaseCollectiveExecutor::StartAbort Out of range: End of sequence\n",
      "\t [[{{node IteratorGetNext}}]]\n"
     ]
    },
    {
     "name": "stdout",
     "output_type": "stream",
     "text": [
      "24/24 [==============================] - 0s 21ms/step - loss: 2.7089e-09 - AUC: 1.0000 - accuracy: 1.0000 - Recall: 1.0000 - Precision: 1.0000 - val_loss: 9.8383 - val_AUC: 0.9905 - val_accuracy: 0.9832 - val_Recall: 0.9810 - val_Precision: 1.0000\n",
      "Epoch 57/100\n"
     ]
    },
    {
     "name": "stderr",
     "output_type": "stream",
     "text": [
      "2021-10-04 20:42:41.895066: W tensorflow/core/common_runtime/base_collective_executor.cc:216] BaseCollectiveExecutor::StartAbort Out of range: End of sequence\n",
      "\t [[{{node IteratorGetNext}}]]\n"
     ]
    },
    {
     "name": "stdout",
     "output_type": "stream",
     "text": [
      "24/24 [==============================] - 0s 21ms/step - loss: 2.7089e-09 - AUC: 1.0000 - accuracy: 1.0000 - Recall: 1.0000 - Precision: 1.0000 - val_loss: 9.8383 - val_AUC: 0.9905 - val_accuracy: 0.9832 - val_Recall: 0.9810 - val_Precision: 1.0000\n",
      "Epoch 58/100\n"
     ]
    },
    {
     "name": "stderr",
     "output_type": "stream",
     "text": [
      "2021-10-04 20:42:42.391653: W tensorflow/core/common_runtime/base_collective_executor.cc:216] BaseCollectiveExecutor::StartAbort Out of range: End of sequence\n",
      "\t [[{{node IteratorGetNext}}]]\n"
     ]
    },
    {
     "name": "stdout",
     "output_type": "stream",
     "text": [
      "24/24 [==============================] - 0s 21ms/step - loss: 2.7089e-09 - AUC: 1.0000 - accuracy: 1.0000 - Recall: 1.0000 - Precision: 1.0000 - val_loss: 9.8383 - val_AUC: 0.9905 - val_accuracy: 0.9832 - val_Recall: 0.9810 - val_Precision: 1.0000\n",
      "Epoch 59/100\n"
     ]
    },
    {
     "name": "stderr",
     "output_type": "stream",
     "text": [
      "2021-10-04 20:42:42.892555: W tensorflow/core/common_runtime/base_collective_executor.cc:216] BaseCollectiveExecutor::StartAbort Out of range: End of sequence\n",
      "\t [[{{node IteratorGetNext}}]]\n"
     ]
    },
    {
     "name": "stdout",
     "output_type": "stream",
     "text": [
      "24/24 [==============================] - 0s 21ms/step - loss: 2.7089e-09 - AUC: 1.0000 - accuracy: 1.0000 - Recall: 1.0000 - Precision: 1.0000 - val_loss: 9.8383 - val_AUC: 0.9905 - val_accuracy: 0.9832 - val_Recall: 0.9810 - val_Precision: 1.0000\n",
      "Epoch 60/100\n"
     ]
    },
    {
     "name": "stderr",
     "output_type": "stream",
     "text": [
      "2021-10-04 20:42:43.392995: W tensorflow/core/common_runtime/base_collective_executor.cc:216] BaseCollectiveExecutor::StartAbort Out of range: End of sequence\n",
      "\t [[{{node IteratorGetNext}}]]\n"
     ]
    },
    {
     "name": "stdout",
     "output_type": "stream",
     "text": [
      "24/24 [==============================] - 0s 21ms/step - loss: 2.7089e-09 - AUC: 1.0000 - accuracy: 1.0000 - Recall: 1.0000 - Precision: 1.0000 - val_loss: 9.8383 - val_AUC: 0.9905 - val_accuracy: 0.9832 - val_Recall: 0.9810 - val_Precision: 1.0000\n",
      "Epoch 61/100\n"
     ]
    },
    {
     "name": "stderr",
     "output_type": "stream",
     "text": [
      "2021-10-04 20:42:43.890104: W tensorflow/core/common_runtime/base_collective_executor.cc:216] BaseCollectiveExecutor::StartAbort Out of range: End of sequence\n",
      "\t [[{{node IteratorGetNext}}]]\n"
     ]
    },
    {
     "name": "stdout",
     "output_type": "stream",
     "text": [
      "24/24 [==============================] - 1s 21ms/step - loss: 2.7088e-09 - AUC: 1.0000 - accuracy: 1.0000 - Recall: 1.0000 - Precision: 1.0000 - val_loss: 9.8383 - val_AUC: 0.9905 - val_accuracy: 0.9832 - val_Recall: 0.9810 - val_Precision: 1.0000\n",
      "Epoch 62/100\n"
     ]
    },
    {
     "name": "stderr",
     "output_type": "stream",
     "text": [
      "2021-10-04 20:42:44.394756: W tensorflow/core/common_runtime/base_collective_executor.cc:216] BaseCollectiveExecutor::StartAbort Out of range: End of sequence\n",
      "\t [[{{node IteratorGetNext}}]]\n"
     ]
    },
    {
     "name": "stdout",
     "output_type": "stream",
     "text": [
      "24/24 [==============================] - 0s 21ms/step - loss: 2.7088e-09 - AUC: 1.0000 - accuracy: 1.0000 - Recall: 1.0000 - Precision: 1.0000 - val_loss: 9.8383 - val_AUC: 0.9905 - val_accuracy: 0.9832 - val_Recall: 0.9810 - val_Precision: 1.0000\n",
      "Epoch 63/100\n"
     ]
    },
    {
     "name": "stderr",
     "output_type": "stream",
     "text": [
      "2021-10-04 20:42:44.893584: W tensorflow/core/common_runtime/base_collective_executor.cc:216] BaseCollectiveExecutor::StartAbort Out of range: End of sequence\n",
      "\t [[{{node IteratorGetNext}}]]\n"
     ]
    },
    {
     "name": "stdout",
     "output_type": "stream",
     "text": [
      "24/24 [==============================] - 1s 21ms/step - loss: 2.7088e-09 - AUC: 1.0000 - accuracy: 1.0000 - Recall: 1.0000 - Precision: 1.0000 - val_loss: 9.8383 - val_AUC: 0.9905 - val_accuracy: 0.9832 - val_Recall: 0.9810 - val_Precision: 1.0000\n",
      "Epoch 64/100\n"
     ]
    },
    {
     "name": "stderr",
     "output_type": "stream",
     "text": [
      "2021-10-04 20:42:45.393867: W tensorflow/core/common_runtime/base_collective_executor.cc:216] BaseCollectiveExecutor::StartAbort Out of range: End of sequence\n",
      "\t [[{{node IteratorGetNext}}]]\n"
     ]
    },
    {
     "name": "stdout",
     "output_type": "stream",
     "text": [
      "24/24 [==============================] - 1s 21ms/step - loss: 2.7088e-09 - AUC: 1.0000 - accuracy: 1.0000 - Recall: 1.0000 - Precision: 1.0000 - val_loss: 9.8383 - val_AUC: 0.9905 - val_accuracy: 0.9832 - val_Recall: 0.9810 - val_Precision: 1.0000\n",
      "Epoch 65/100\n"
     ]
    },
    {
     "name": "stderr",
     "output_type": "stream",
     "text": [
      "2021-10-04 20:42:45.901634: W tensorflow/core/common_runtime/base_collective_executor.cc:216] BaseCollectiveExecutor::StartAbort Out of range: End of sequence\n",
      "\t [[{{node IteratorGetNext}}]]\n"
     ]
    },
    {
     "name": "stdout",
     "output_type": "stream",
     "text": [
      "24/24 [==============================] - 1s 21ms/step - loss: 2.7088e-09 - AUC: 1.0000 - accuracy: 1.0000 - Recall: 1.0000 - Precision: 1.0000 - val_loss: 9.8383 - val_AUC: 0.9905 - val_accuracy: 0.9832 - val_Recall: 0.9810 - val_Precision: 1.0000\n",
      "Epoch 66/100\n"
     ]
    },
    {
     "name": "stderr",
     "output_type": "stream",
     "text": [
      "2021-10-04 20:42:46.408507: W tensorflow/core/common_runtime/base_collective_executor.cc:216] BaseCollectiveExecutor::StartAbort Out of range: End of sequence\n",
      "\t [[{{node IteratorGetNext}}]]\n"
     ]
    },
    {
     "name": "stdout",
     "output_type": "stream",
     "text": [
      "24/24 [==============================] - 0s 21ms/step - loss: 2.7088e-09 - AUC: 1.0000 - accuracy: 1.0000 - Recall: 1.0000 - Precision: 1.0000 - val_loss: 9.8383 - val_AUC: 0.9905 - val_accuracy: 0.9832 - val_Recall: 0.9810 - val_Precision: 1.0000\n",
      "Epoch 67/100\n"
     ]
    },
    {
     "name": "stderr",
     "output_type": "stream",
     "text": [
      "2021-10-04 20:42:46.903457: W tensorflow/core/common_runtime/base_collective_executor.cc:216] BaseCollectiveExecutor::StartAbort Out of range: End of sequence\n",
      "\t [[{{node IteratorGetNext}}]]\n"
     ]
    },
    {
     "name": "stdout",
     "output_type": "stream",
     "text": [
      "24/24 [==============================] - 1s 21ms/step - loss: 2.7088e-09 - AUC: 1.0000 - accuracy: 1.0000 - Recall: 1.0000 - Precision: 1.0000 - val_loss: 9.8383 - val_AUC: 0.9905 - val_accuracy: 0.9832 - val_Recall: 0.9810 - val_Precision: 1.0000\n",
      "Epoch 68/100\n"
     ]
    },
    {
     "name": "stderr",
     "output_type": "stream",
     "text": [
      "2021-10-04 20:42:47.406670: W tensorflow/core/common_runtime/base_collective_executor.cc:216] BaseCollectiveExecutor::StartAbort Out of range: End of sequence\n",
      "\t [[{{node IteratorGetNext}}]]\n"
     ]
    },
    {
     "name": "stdout",
     "output_type": "stream",
     "text": [
      "24/24 [==============================] - 0s 21ms/step - loss: 2.7082e-09 - AUC: 1.0000 - accuracy: 1.0000 - Recall: 1.0000 - Precision: 1.0000 - val_loss: 9.8383 - val_AUC: 0.9905 - val_accuracy: 0.9832 - val_Recall: 0.9810 - val_Precision: 1.0000\n",
      "Epoch 69/100\n"
     ]
    },
    {
     "name": "stderr",
     "output_type": "stream",
     "text": [
      "2021-10-04 20:42:47.906670: W tensorflow/core/common_runtime/base_collective_executor.cc:216] BaseCollectiveExecutor::StartAbort Out of range: End of sequence\n",
      "\t [[{{node IteratorGetNext}}]]\n"
     ]
    },
    {
     "name": "stdout",
     "output_type": "stream",
     "text": [
      "24/24 [==============================] - 0s 21ms/step - loss: 2.7081e-09 - AUC: 1.0000 - accuracy: 1.0000 - Recall: 1.0000 - Precision: 1.0000 - val_loss: 9.8383 - val_AUC: 0.9905 - val_accuracy: 0.9832 - val_Recall: 0.9810 - val_Precision: 1.0000\n",
      "Epoch 70/100\n"
     ]
    },
    {
     "name": "stderr",
     "output_type": "stream",
     "text": [
      "2021-10-04 20:42:48.403512: W tensorflow/core/common_runtime/base_collective_executor.cc:216] BaseCollectiveExecutor::StartAbort Out of range: End of sequence\n",
      "\t [[{{node IteratorGetNext}}]]\n"
     ]
    },
    {
     "name": "stdout",
     "output_type": "stream",
     "text": [
      "24/24 [==============================] - 0s 21ms/step - loss: 2.7081e-09 - AUC: 1.0000 - accuracy: 1.0000 - Recall: 1.0000 - Precision: 1.0000 - val_loss: 9.8383 - val_AUC: 0.9905 - val_accuracy: 0.9832 - val_Recall: 0.9810 - val_Precision: 1.0000\n",
      "Epoch 71/100\n"
     ]
    },
    {
     "name": "stderr",
     "output_type": "stream",
     "text": [
      "2021-10-04 20:42:48.902805: W tensorflow/core/common_runtime/base_collective_executor.cc:216] BaseCollectiveExecutor::StartAbort Out of range: End of sequence\n",
      "\t [[{{node IteratorGetNext}}]]\n"
     ]
    },
    {
     "name": "stdout",
     "output_type": "stream",
     "text": [
      "24/24 [==============================] - 0s 21ms/step - loss: 2.7081e-09 - AUC: 1.0000 - accuracy: 1.0000 - Recall: 1.0000 - Precision: 1.0000 - val_loss: 9.8785 - val_AUC: 0.9905 - val_accuracy: 0.9832 - val_Recall: 0.9810 - val_Precision: 1.0000\n",
      "Epoch 72/100\n"
     ]
    },
    {
     "name": "stderr",
     "output_type": "stream",
     "text": [
      "2021-10-04 20:42:49.401817: W tensorflow/core/common_runtime/base_collective_executor.cc:216] BaseCollectiveExecutor::StartAbort Out of range: End of sequence\n",
      "\t [[{{node IteratorGetNext}}]]\n"
     ]
    },
    {
     "name": "stdout",
     "output_type": "stream",
     "text": [
      "24/24 [==============================] - 1s 21ms/step - loss: 2.7081e-09 - AUC: 1.0000 - accuracy: 1.0000 - Recall: 1.0000 - Precision: 1.0000 - val_loss: 9.8383 - val_AUC: 0.9905 - val_accuracy: 0.9832 - val_Recall: 0.9810 - val_Precision: 1.0000\n",
      "Epoch 73/100\n"
     ]
    },
    {
     "name": "stderr",
     "output_type": "stream",
     "text": [
      "2021-10-04 20:42:49.902893: W tensorflow/core/common_runtime/base_collective_executor.cc:216] BaseCollectiveExecutor::StartAbort Out of range: End of sequence\n",
      "\t [[{{node IteratorGetNext}}]]\n"
     ]
    },
    {
     "name": "stdout",
     "output_type": "stream",
     "text": [
      "24/24 [==============================] - 1s 21ms/step - loss: 2.7076e-09 - AUC: 1.0000 - accuracy: 1.0000 - Recall: 1.0000 - Precision: 1.0000 - val_loss: 10.3160 - val_AUC: 0.9905 - val_accuracy: 0.9832 - val_Recall: 0.9810 - val_Precision: 1.0000\n",
      "Epoch 74/100\n"
     ]
    },
    {
     "name": "stderr",
     "output_type": "stream",
     "text": [
      "2021-10-04 20:42:50.404116: W tensorflow/core/common_runtime/base_collective_executor.cc:216] BaseCollectiveExecutor::StartAbort Out of range: End of sequence\n",
      "\t [[{{node IteratorGetNext}}]]\n"
     ]
    },
    {
     "name": "stdout",
     "output_type": "stream",
     "text": [
      "24/24 [==============================] - 1s 23ms/step - loss: 1.0984e-10 - AUC: 1.0000 - accuracy: 1.0000 - Recall: 1.0000 - Precision: 1.0000 - val_loss: 9.8383 - val_AUC: 0.9905 - val_accuracy: 0.9832 - val_Recall: 0.9810 - val_Precision: 1.0000\n"
     ]
    },
    {
     "name": "stderr",
     "output_type": "stream",
     "text": [
      "2021-10-04 20:42:50.924383: W tensorflow/core/common_runtime/base_collective_executor.cc:216] BaseCollectiveExecutor::StartAbort Out of range: End of sequence\n",
      "\t [[{{node IteratorGetNext}}]]\n"
     ]
    },
    {
     "name": "stdout",
     "output_type": "stream",
     "text": [
      "Epoch 75/100\n",
      "24/24 [==============================] - 1s 21ms/step - loss: 2.7065e-09 - AUC: 1.0000 - accuracy: 1.0000 - Recall: 1.0000 - Precision: 1.0000 - val_loss: 10.3160 - val_AUC: 0.9905 - val_accuracy: 0.9832 - val_Recall: 0.9810 - val_Precision: 1.0000\n",
      "Epoch 76/100\n"
     ]
    },
    {
     "name": "stderr",
     "output_type": "stream",
     "text": [
      "2021-10-04 20:42:51.458773: W tensorflow/core/common_runtime/base_collective_executor.cc:216] BaseCollectiveExecutor::StartAbort Out of range: End of sequence\n",
      "\t [[{{node IteratorGetNext}}]]\n"
     ]
    },
    {
     "name": "stdout",
     "output_type": "stream",
     "text": [
      "24/24 [==============================] - 0s 21ms/step - loss: 2.7064e-09 - AUC: 1.0000 - accuracy: 1.0000 - Recall: 1.0000 - Precision: 1.0000 - val_loss: 9.8383 - val_AUC: 0.9905 - val_accuracy: 0.9832 - val_Recall: 0.9810 - val_Precision: 1.0000\n",
      "Epoch 77/100\n"
     ]
    },
    {
     "name": "stderr",
     "output_type": "stream",
     "text": [
      "2021-10-04 20:42:51.957148: W tensorflow/core/common_runtime/base_collective_executor.cc:216] BaseCollectiveExecutor::StartAbort Out of range: End of sequence\n",
      "\t [[{{node IteratorGetNext}}]]\n"
     ]
    },
    {
     "name": "stdout",
     "output_type": "stream",
     "text": [
      "24/24 [==============================] - 1s 22ms/step - loss: 2.7060e-09 - AUC: 1.0000 - accuracy: 1.0000 - Recall: 1.0000 - Precision: 1.0000 - val_loss: 9.8785 - val_AUC: 0.9905 - val_accuracy: 0.9832 - val_Recall: 0.9810 - val_Precision: 1.0000\n",
      "Epoch 78/100\n"
     ]
    },
    {
     "name": "stderr",
     "output_type": "stream",
     "text": [
      "2021-10-04 20:42:52.497762: W tensorflow/core/common_runtime/base_collective_executor.cc:216] BaseCollectiveExecutor::StartAbort Out of range: End of sequence\n",
      "\t [[{{node IteratorGetNext}}]]\n"
     ]
    },
    {
     "name": "stdout",
     "output_type": "stream",
     "text": [
      "24/24 [==============================] - 1s 21ms/step - loss: 2.7060e-09 - AUC: 1.0000 - accuracy: 1.0000 - Recall: 1.0000 - Precision: 1.0000 - val_loss: 9.8383 - val_AUC: 0.9905 - val_accuracy: 0.9832 - val_Recall: 0.9810 - val_Precision: 1.0000\n",
      "Epoch 79/100\n"
     ]
    },
    {
     "name": "stderr",
     "output_type": "stream",
     "text": [
      "2021-10-04 20:42:52.998519: W tensorflow/core/common_runtime/base_collective_executor.cc:216] BaseCollectiveExecutor::StartAbort Out of range: End of sequence\n",
      "\t [[{{node IteratorGetNext}}]]\n"
     ]
    },
    {
     "name": "stdout",
     "output_type": "stream",
     "text": [
      "24/24 [==============================] - 1s 21ms/step - loss: 2.7060e-09 - AUC: 1.0000 - accuracy: 1.0000 - Recall: 1.0000 - Precision: 1.0000 - val_loss: 9.8383 - val_AUC: 0.9905 - val_accuracy: 0.9832 - val_Recall: 0.9810 - val_Precision: 1.0000\n",
      "Epoch 80/100\n"
     ]
    },
    {
     "name": "stderr",
     "output_type": "stream",
     "text": [
      "2021-10-04 20:42:53.511082: W tensorflow/core/common_runtime/base_collective_executor.cc:216] BaseCollectiveExecutor::StartAbort Out of range: End of sequence\n",
      "\t [[{{node IteratorGetNext}}]]\n"
     ]
    },
    {
     "name": "stdout",
     "output_type": "stream",
     "text": [
      "24/24 [==============================] - 1s 21ms/step - loss: 2.7055e-09 - AUC: 1.0000 - accuracy: 1.0000 - Recall: 1.0000 - Precision: 1.0000 - val_loss: 9.8383 - val_AUC: 0.9905 - val_accuracy: 0.9832 - val_Recall: 0.9810 - val_Precision: 1.0000\n",
      "Epoch 81/100\n"
     ]
    },
    {
     "name": "stderr",
     "output_type": "stream",
     "text": [
      "2021-10-04 20:42:54.020455: W tensorflow/core/common_runtime/base_collective_executor.cc:216] BaseCollectiveExecutor::StartAbort Out of range: End of sequence\n",
      "\t [[{{node IteratorGetNext}}]]\n"
     ]
    },
    {
     "name": "stdout",
     "output_type": "stream",
     "text": [
      "24/24 [==============================] - 0s 21ms/step - loss: 2.7055e-09 - AUC: 1.0000 - accuracy: 1.0000 - Recall: 1.0000 - Precision: 1.0000 - val_loss: 9.8785 - val_AUC: 0.9905 - val_accuracy: 0.9832 - val_Recall: 0.9810 - val_Precision: 1.0000\n",
      "Epoch 82/100\n"
     ]
    },
    {
     "name": "stderr",
     "output_type": "stream",
     "text": [
      "2021-10-04 20:42:54.513710: W tensorflow/core/common_runtime/base_collective_executor.cc:216] BaseCollectiveExecutor::StartAbort Out of range: End of sequence\n",
      "\t [[{{node IteratorGetNext}}]]\n"
     ]
    },
    {
     "name": "stdout",
     "output_type": "stream",
     "text": [
      "24/24 [==============================] - 0s 21ms/step - loss: 2.7050e-09 - AUC: 1.0000 - accuracy: 1.0000 - Recall: 1.0000 - Precision: 1.0000 - val_loss: 9.8383 - val_AUC: 0.9905 - val_accuracy: 0.9832 - val_Recall: 0.9810 - val_Precision: 1.0000\n",
      "Epoch 83/100\n"
     ]
    },
    {
     "name": "stderr",
     "output_type": "stream",
     "text": [
      "2021-10-04 20:42:55.010537: W tensorflow/core/common_runtime/base_collective_executor.cc:216] BaseCollectiveExecutor::StartAbort Out of range: End of sequence\n",
      "\t [[{{node IteratorGetNext}}]]\n"
     ]
    },
    {
     "name": "stdout",
     "output_type": "stream",
     "text": [
      "24/24 [==============================] - 0s 21ms/step - loss: 2.7050e-09 - AUC: 1.0000 - accuracy: 1.0000 - Recall: 1.0000 - Precision: 1.0000 - val_loss: 9.8785 - val_AUC: 0.9905 - val_accuracy: 0.9832 - val_Recall: 0.9810 - val_Precision: 1.0000\n",
      "Epoch 84/100\n"
     ]
    },
    {
     "name": "stderr",
     "output_type": "stream",
     "text": [
      "2021-10-04 20:42:55.508474: W tensorflow/core/common_runtime/base_collective_executor.cc:216] BaseCollectiveExecutor::StartAbort Out of range: End of sequence\n",
      "\t [[{{node IteratorGetNext}}]]\n"
     ]
    },
    {
     "name": "stdout",
     "output_type": "stream",
     "text": [
      "24/24 [==============================] - 0s 21ms/step - loss: 2.7045e-09 - AUC: 1.0000 - accuracy: 1.0000 - Recall: 1.0000 - Precision: 1.0000 - val_loss: 9.8383 - val_AUC: 0.9905 - val_accuracy: 0.9832 - val_Recall: 0.9810 - val_Precision: 1.0000\n",
      "Epoch 85/100\n"
     ]
    },
    {
     "name": "stderr",
     "output_type": "stream",
     "text": [
      "2021-10-04 20:42:56.006933: W tensorflow/core/common_runtime/base_collective_executor.cc:216] BaseCollectiveExecutor::StartAbort Out of range: End of sequence\n",
      "\t [[{{node IteratorGetNext}}]]\n"
     ]
    },
    {
     "name": "stdout",
     "output_type": "stream",
     "text": [
      "24/24 [==============================] - 1s 21ms/step - loss: 2.7039e-09 - AUC: 1.0000 - accuracy: 1.0000 - Recall: 1.0000 - Precision: 1.0000 - val_loss: 9.8383 - val_AUC: 0.9905 - val_accuracy: 0.9832 - val_Recall: 0.9810 - val_Precision: 1.0000\n",
      "Epoch 86/100\n"
     ]
    },
    {
     "name": "stderr",
     "output_type": "stream",
     "text": [
      "2021-10-04 20:42:56.507332: W tensorflow/core/common_runtime/base_collective_executor.cc:216] BaseCollectiveExecutor::StartAbort Out of range: End of sequence\n",
      "\t [[{{node IteratorGetNext}}]]\n"
     ]
    },
    {
     "name": "stdout",
     "output_type": "stream",
     "text": [
      "24/24 [==============================] - 0s 21ms/step - loss: 2.7035e-09 - AUC: 1.0000 - accuracy: 1.0000 - Recall: 1.0000 - Precision: 1.0000 - val_loss: 10.3160 - val_AUC: 0.9905 - val_accuracy: 0.9832 - val_Recall: 0.9810 - val_Precision: 1.0000\n",
      "Epoch 87/100\n"
     ]
    },
    {
     "name": "stderr",
     "output_type": "stream",
     "text": [
      "2021-10-04 20:42:57.003878: W tensorflow/core/common_runtime/base_collective_executor.cc:216] BaseCollectiveExecutor::StartAbort Out of range: End of sequence\n",
      "\t [[{{node IteratorGetNext}}]]\n"
     ]
    },
    {
     "name": "stdout",
     "output_type": "stream",
     "text": [
      "24/24 [==============================] - 0s 21ms/step - loss: 2.7034e-09 - AUC: 1.0000 - accuracy: 1.0000 - Recall: 1.0000 - Precision: 1.0000 - val_loss: 9.8784 - val_AUC: 0.9905 - val_accuracy: 0.9832 - val_Recall: 0.9810 - val_Precision: 1.0000\n",
      "Epoch 88/100\n"
     ]
    },
    {
     "name": "stderr",
     "output_type": "stream",
     "text": [
      "2021-10-04 20:42:57.502146: W tensorflow/core/common_runtime/base_collective_executor.cc:216] BaseCollectiveExecutor::StartAbort Out of range: End of sequence\n",
      "\t [[{{node IteratorGetNext}}]]\n"
     ]
    },
    {
     "name": "stdout",
     "output_type": "stream",
     "text": [
      "24/24 [==============================] - 1s 21ms/step - loss: 2.7030e-09 - AUC: 1.0000 - accuracy: 1.0000 - Recall: 1.0000 - Precision: 1.0000 - val_loss: 9.8383 - val_AUC: 0.9905 - val_accuracy: 0.9832 - val_Recall: 0.9810 - val_Precision: 1.0000\n",
      "Epoch 89/100\n"
     ]
    },
    {
     "name": "stderr",
     "output_type": "stream",
     "text": [
      "2021-10-04 20:42:58.001278: W tensorflow/core/common_runtime/base_collective_executor.cc:216] BaseCollectiveExecutor::StartAbort Out of range: End of sequence\n",
      "\t [[{{node IteratorGetNext}}]]\n"
     ]
    },
    {
     "name": "stdout",
     "output_type": "stream",
     "text": [
      "24/24 [==============================] - 0s 21ms/step - loss: 2.7022e-09 - AUC: 1.0000 - accuracy: 1.0000 - Recall: 1.0000 - Precision: 1.0000 - val_loss: 9.8784 - val_AUC: 0.9905 - val_accuracy: 0.9832 - val_Recall: 0.9810 - val_Precision: 1.0000\n",
      "Epoch 90/100\n"
     ]
    },
    {
     "name": "stderr",
     "output_type": "stream",
     "text": [
      "2021-10-04 20:42:58.499869: W tensorflow/core/common_runtime/base_collective_executor.cc:216] BaseCollectiveExecutor::StartAbort Out of range: End of sequence\n",
      "\t [[{{node IteratorGetNext}}]]\n"
     ]
    },
    {
     "name": "stdout",
     "output_type": "stream",
     "text": [
      "24/24 [==============================] - 1s 23ms/step - loss: 2.7018e-09 - AUC: 1.0000 - accuracy: 1.0000 - Recall: 1.0000 - Precision: 1.0000 - val_loss: 10.3160 - val_AUC: 0.9905 - val_accuracy: 0.9832 - val_Recall: 0.9810 - val_Precision: 1.0000\n",
      "Epoch 91/100\n"
     ]
    },
    {
     "name": "stderr",
     "output_type": "stream",
     "text": [
      "2021-10-04 20:42:59.051247: W tensorflow/core/common_runtime/base_collective_executor.cc:216] BaseCollectiveExecutor::StartAbort Out of range: End of sequence\n",
      "\t [[{{node IteratorGetNext}}]]\n"
     ]
    },
    {
     "name": "stdout",
     "output_type": "stream",
     "text": [
      "24/24 [==============================] - 0s 21ms/step - loss: 2.7017e-09 - AUC: 1.0000 - accuracy: 1.0000 - Recall: 1.0000 - Precision: 1.0000 - val_loss: 9.8383 - val_AUC: 0.9905 - val_accuracy: 0.9832 - val_Recall: 0.9810 - val_Precision: 1.0000\n",
      "Epoch 92/100\n"
     ]
    },
    {
     "name": "stderr",
     "output_type": "stream",
     "text": [
      "2021-10-04 20:42:59.549651: W tensorflow/core/common_runtime/base_collective_executor.cc:216] BaseCollectiveExecutor::StartAbort Out of range: End of sequence\n",
      "\t [[{{node IteratorGetNext}}]]\n"
     ]
    },
    {
     "name": "stdout",
     "output_type": "stream",
     "text": [
      "24/24 [==============================] - 1s 21ms/step - loss: 2.7013e-09 - AUC: 1.0000 - accuracy: 1.0000 - Recall: 1.0000 - Precision: 1.0000 - val_loss: 9.8383 - val_AUC: 0.9905 - val_accuracy: 0.9832 - val_Recall: 0.9810 - val_Precision: 1.0000\n",
      "Epoch 93/100\n"
     ]
    },
    {
     "name": "stderr",
     "output_type": "stream",
     "text": [
      "2021-10-04 20:43:00.049235: W tensorflow/core/common_runtime/base_collective_executor.cc:216] BaseCollectiveExecutor::StartAbort Out of range: End of sequence\n",
      "\t [[{{node IteratorGetNext}}]]\n"
     ]
    },
    {
     "name": "stdout",
     "output_type": "stream",
     "text": [
      "24/24 [==============================] - 1s 21ms/step - loss: 2.7008e-09 - AUC: 1.0000 - accuracy: 1.0000 - Recall: 1.0000 - Precision: 1.0000 - val_loss: 9.8383 - val_AUC: 0.9905 - val_accuracy: 0.9832 - val_Recall: 0.9810 - val_Precision: 1.0000\n",
      "Epoch 94/100\n"
     ]
    },
    {
     "name": "stderr",
     "output_type": "stream",
     "text": [
      "2021-10-04 20:43:00.557057: W tensorflow/core/common_runtime/base_collective_executor.cc:216] BaseCollectiveExecutor::StartAbort Out of range: End of sequence\n",
      "\t [[{{node IteratorGetNext}}]]\n"
     ]
    },
    {
     "name": "stdout",
     "output_type": "stream",
     "text": [
      "24/24 [==============================] - 1s 21ms/step - loss: 2.7008e-09 - AUC: 1.0000 - accuracy: 1.0000 - Recall: 1.0000 - Precision: 1.0000 - val_loss: 9.8784 - val_AUC: 0.9905 - val_accuracy: 0.9832 - val_Recall: 0.9810 - val_Precision: 1.0000\n",
      "Epoch 95/100\n"
     ]
    },
    {
     "name": "stderr",
     "output_type": "stream",
     "text": [
      "2021-10-04 20:43:01.058225: W tensorflow/core/common_runtime/base_collective_executor.cc:216] BaseCollectiveExecutor::StartAbort Out of range: End of sequence\n",
      "\t [[{{node IteratorGetNext}}]]\n"
     ]
    },
    {
     "name": "stdout",
     "output_type": "stream",
     "text": [
      "24/24 [==============================] - 1s 21ms/step - loss: 2.7003e-09 - AUC: 1.0000 - accuracy: 1.0000 - Recall: 1.0000 - Precision: 1.0000 - val_loss: 9.8383 - val_AUC: 0.9905 - val_accuracy: 0.9832 - val_Recall: 0.9810 - val_Precision: 1.0000\n",
      "Epoch 96/100\n"
     ]
    },
    {
     "name": "stderr",
     "output_type": "stream",
     "text": [
      "2021-10-04 20:43:01.559433: W tensorflow/core/common_runtime/base_collective_executor.cc:216] BaseCollectiveExecutor::StartAbort Out of range: End of sequence\n",
      "\t [[{{node IteratorGetNext}}]]\n"
     ]
    },
    {
     "name": "stdout",
     "output_type": "stream",
     "text": [
      "24/24 [==============================] - 1s 21ms/step - loss: 2.6999e-09 - AUC: 1.0000 - accuracy: 1.0000 - Recall: 1.0000 - Precision: 1.0000 - val_loss: 9.8383 - val_AUC: 0.9905 - val_accuracy: 0.9832 - val_Recall: 0.9810 - val_Precision: 1.0000\n",
      "Epoch 97/100\n"
     ]
    },
    {
     "name": "stderr",
     "output_type": "stream",
     "text": [
      "2021-10-04 20:43:02.065964: W tensorflow/core/common_runtime/base_collective_executor.cc:216] BaseCollectiveExecutor::StartAbort Out of range: End of sequence\n",
      "\t [[{{node IteratorGetNext}}]]\n"
     ]
    },
    {
     "name": "stdout",
     "output_type": "stream",
     "text": [
      "24/24 [==============================] - 0s 21ms/step - loss: 2.6989e-09 - AUC: 1.0000 - accuracy: 1.0000 - Recall: 1.0000 - Precision: 1.0000 - val_loss: 9.8383 - val_AUC: 0.9905 - val_accuracy: 0.9832 - val_Recall: 0.9810 - val_Precision: 1.0000\n",
      "Epoch 98/100\n"
     ]
    },
    {
     "name": "stderr",
     "output_type": "stream",
     "text": [
      "2021-10-04 20:43:02.566756: W tensorflow/core/common_runtime/base_collective_executor.cc:216] BaseCollectiveExecutor::StartAbort Out of range: End of sequence\n",
      "\t [[{{node IteratorGetNext}}]]\n"
     ]
    },
    {
     "name": "stdout",
     "output_type": "stream",
     "text": [
      "24/24 [==============================] - 0s 21ms/step - loss: 2.6988e-09 - AUC: 1.0000 - accuracy: 1.0000 - Recall: 1.0000 - Precision: 1.0000 - val_loss: 9.8383 - val_AUC: 0.9905 - val_accuracy: 0.9832 - val_Recall: 0.9810 - val_Precision: 1.0000\n",
      "Epoch 99/100\n"
     ]
    },
    {
     "name": "stderr",
     "output_type": "stream",
     "text": [
      "2021-10-04 20:43:03.066486: W tensorflow/core/common_runtime/base_collective_executor.cc:216] BaseCollectiveExecutor::StartAbort Out of range: End of sequence\n",
      "\t [[{{node IteratorGetNext}}]]\n"
     ]
    },
    {
     "name": "stdout",
     "output_type": "stream",
     "text": [
      "24/24 [==============================] - 1s 21ms/step - loss: 2.6981e-09 - AUC: 1.0000 - accuracy: 1.0000 - Recall: 1.0000 - Precision: 1.0000 - val_loss: 9.8383 - val_AUC: 0.9905 - val_accuracy: 0.9832 - val_Recall: 0.9810 - val_Precision: 1.0000\n",
      "Epoch 100/100\n"
     ]
    },
    {
     "name": "stderr",
     "output_type": "stream",
     "text": [
      "2021-10-04 20:43:03.567615: W tensorflow/core/common_runtime/base_collective_executor.cc:216] BaseCollectiveExecutor::StartAbort Out of range: End of sequence\n",
      "\t [[{{node IteratorGetNext}}]]\n"
     ]
    },
    {
     "name": "stdout",
     "output_type": "stream",
     "text": [
      "24/24 [==============================] - 1s 21ms/step - loss: 2.6977e-09 - AUC: 1.0000 - accuracy: 1.0000 - Recall: 1.0000 - Precision: 1.0000 - val_loss: 9.8383 - val_AUC: 0.9905 - val_accuracy: 0.9832 - val_Recall: 0.9810 - val_Precision: 1.0000\n"
     ]
    },
    {
     "name": "stderr",
     "output_type": "stream",
     "text": [
      "2021-10-04 20:43:04.067831: W tensorflow/core/common_runtime/base_collective_executor.cc:216] BaseCollectiveExecutor::StartAbort Out of range: End of sequence\n",
      "\t [[{{node IteratorGetNext}}]]\n"
     ]
    }
   ],
   "source": [
    "model = deep_model_train()"
   ]
  },
  {
   "cell_type": "code",
   "execution_count": 43,
   "id": "knowing-european",
   "metadata": {},
   "outputs": [
    {
     "name": "stdout",
     "output_type": "stream",
     "text": [
      "WARNING:tensorflow:From /Users/lijiwen.1/opt/anaconda3/envs/bio_tf/lib/python3.7/site-packages/tensorflow_core/python/ops/resource_variable_ops.py:1781: calling BaseResourceVariable.__init__ (from tensorflow.python.ops.resource_variable_ops) with constraint is deprecated and will be removed in a future version.\n",
      "Instructions for updating:\n",
      "If using Keras pass *_constraint arguments to layers.\n",
      "INFO:tensorflow:Assets written to: model/v3/assets\n"
     ]
    }
   ],
   "source": [
    "tf.saved_model.save(model, 'model/v3')"
   ]
  },
  {
   "cell_type": "code",
   "execution_count": null,
   "id": "changing-violin",
   "metadata": {},
   "outputs": [],
   "source": [
    "x = feature_df.head(1).drop(['label'], axis = 1).to_numpy().reshape((194,1))"
   ]
  },
  {
   "cell_type": "code",
   "execution_count": null,
   "id": "north-waste",
   "metadata": {},
   "outputs": [],
   "source": [
    "model.predict(np.random.random((1,194)))"
   ]
  },
  {
   "cell_type": "code",
   "execution_count": null,
   "id": "burning-presentation",
   "metadata": {},
   "outputs": [],
   "source": [
    "feature_df = pd.read_csv('final_choosed_feature_v1.csv', index_col=0)"
   ]
  },
  {
   "cell_type": "code",
   "execution_count": 45,
   "id": "mounted-resort",
   "metadata": {},
   "outputs": [],
   "source": [
    "x = tf.data.Dataset.from_tensor_slices(test.drop(['label'], axis = 1).to_dict('list'))"
   ]
  },
  {
   "cell_type": "code",
   "execution_count": 46,
   "id": "collaborative-robinson",
   "metadata": {},
   "outputs": [],
   "source": [
    "x1 = x.batch(10)"
   ]
  },
  {
   "cell_type": "code",
   "execution_count": 47,
   "id": "expanded-curtis",
   "metadata": {},
   "outputs": [],
   "source": [
    "pp = model.predict(x1)"
   ]
  },
  {
   "cell_type": "code",
   "execution_count": null,
   "id": "architectural-yahoo",
   "metadata": {},
   "outputs": [],
   "source": [
    "features = df.drop(['label'], axis=1).values"
   ]
  },
  {
   "cell_type": "code",
   "execution_count": null,
   "id": "metric-minneapolis",
   "metadata": {},
   "outputs": [],
   "source": [
    "labels = df['label'].values"
   ]
  },
  {
   "cell_type": "code",
   "execution_count": null,
   "id": "atmospheric-swaziland",
   "metadata": {},
   "outputs": [],
   "source": [
    "model.evaluate(test_ds)"
   ]
  },
  {
   "cell_type": "code",
   "execution_count": 22,
   "id": "alien-cemetery",
   "metadata": {},
   "outputs": [],
   "source": [
    "pred = model.predict(test_ds)\n"
   ]
  },
  {
   "cell_type": "code",
   "execution_count": 48,
   "id": "colored-lawsuit",
   "metadata": {},
   "outputs": [],
   "source": [
    "false_positive_rate,true_positive_rate,thresholds=roc_curve(test['label'].values, pp)"
   ]
  },
  {
   "cell_type": "code",
   "execution_count": 49,
   "id": "occupied-position",
   "metadata": {},
   "outputs": [],
   "source": [
    "roc_auc=auc(false_positive_rate, true_positive_rate)"
   ]
  },
  {
   "cell_type": "code",
   "execution_count": null,
   "id": "affiliated-mechanics",
   "metadata": {},
   "outputs": [],
   "source": [
    "model.predict(test_ds)"
   ]
  },
  {
   "cell_type": "code",
   "execution_count": null,
   "id": "pending-storage",
   "metadata": {},
   "outputs": [],
   "source": [
    "test['label'].values"
   ]
  },
  {
   "cell_type": "code",
   "execution_count": 50,
   "id": "figured-chassis",
   "metadata": {},
   "outputs": [
    {
     "data": {
      "text/plain": [
       "0.9904761904761905"
      ]
     },
     "execution_count": 50,
     "metadata": {},
     "output_type": "execute_result"
    }
   ],
   "source": [
    "roc_auc"
   ]
  },
  {
   "cell_type": "code",
   "execution_count": 42,
   "id": "julian-skating",
   "metadata": {},
   "outputs": [
    {
     "data": {
      "text/plain": [
       "[<matplotlib.lines.Line2D at 0x7fd4e5781b10>]"
      ]
     },
     "execution_count": 42,
     "metadata": {},
     "output_type": "execute_result"
    },
    {
     "data": {
      "image/png": "[encoded data removed]",
      "text/plain": [
       "<Figure size 1980x1500 with 1 Axes>"
      ]
     },
     "metadata": {
      "needs_background": "light"
     },
     "output_type": "display_data"
    }
   ],
   "source": [
    "plt.plot(false_positive_rate, true_positive_rate)"
   ]
  },
  {
   "cell_type": "code",
   "execution_count": 44,
   "id": "immediate-classic",
   "metadata": {},
   "outputs": [],
   "source": [
    "test.to_csv('model_v3_test_df.csv')"
   ]
  },
  {
   "cell_type": "code",
   "execution_count": 35,
   "id": "continent-defense",
   "metadata": {},
   "outputs": [],
   "source": [
    "svm_fpr,svm_tpr,thre = svm_train()"
   ]
  },
  {
   "cell_type": "code",
   "execution_count": 42,
   "id": "fee9fe42-eab9-4aec-bbf7-ab4da21503db",
   "metadata": {},
   "outputs": [],
   "source": [
    "lr_fpr, lr_tpr, thre = lr_train()"
   ]
  },
  {
   "cell_type": "code",
   "execution_count": 28,
   "id": "2d6a51b2-8baf-441d-844d-ff041edbccc1",
   "metadata": {},
   "outputs": [],
   "source": [
    "knn_fpr, knn_tpr, thre = knn_train()"
   ]
  },
  {
   "cell_type": "code",
   "execution_count": 29,
   "id": "218517f4-ed3b-4adb-8472-63f5708c627e",
   "metadata": {},
   "outputs": [],
   "source": [
    "rf_fpr, rf_tpr, thre = rf_train()"
   ]
  },
  {
   "cell_type": "code",
   "execution_count": 50,
   "id": "rough-scholar",
   "metadata": {},
   "outputs": [
    {
     "data": {
      "text/plain": [
       "[<matplotlib.lines.Line2D at 0x7fd4e60afc10>]"
      ]
     },
     "execution_count": 50,
     "metadata": {},
     "output_type": "execute_result"
    },
    {
     "data": {
      "image/png": "[encoded data removed]",
      "text/plain": [
       "<Figure size 1980x1500 with 1 Axes>"
      ]
     },
     "metadata": {
      "needs_background": "light"
     },
     "output_type": "display_data"
    }
   ],
   "source": [
    "plt.plot(svm_fpr, svm_tpr)"
   ]
  },
  {
   "cell_type": "code",
   "execution_count": 51,
   "id": "sophisticated-canadian",
   "metadata": {},
   "outputs": [
    {
     "data": {
      "image/png": "[encoded data removed]",
      "text/plain": [
       "<Figure size 2100x1575 with 1 Axes>"
      ]
     },
     "metadata": {
      "needs_background": "light"
     },
     "output_type": "display_data"
    }
   ],
   "source": [
    "\n",
    "with plt.style.context(['science']):\n",
    "    fig, ax = plt.subplots()        \n",
    "    for p in ['SVM', 'DNN','LR','KNN','RF']: \n",
    "        fpr, tpr = get_ff(p)\n",
    "        roc_auc=auc(fpr, tpr)\n",
    "        ax.plot(fpr, tpr, label='%s AUC=(%.2f)' %(p, roc_auc)) \n",
    "    ax.plot([0,1],[0,1],'r--')\n",
    "    ax.legend(loc='lower right') \n",
    "    ax.legend(title='model')       \n",
    "    ax.set(xlabel='FPR')        \n",
    "    ax.set(ylabel='TPR')\n",
    "    plt.title('ROC curve for LUAD in TCGA dataset')\n",
    "    #ax.autoscale(tight=True)        \n",
    "    #fig.savefig('fig1.pdf')        \n",
    "    fig.savefig('fig1.jpg', dpi=300)"
   ]
  },
  {
   "cell_type": "code",
   "execution_count": 15,
   "id": "altered-shadow",
   "metadata": {},
   "outputs": [],
   "source": [
    "def get_ff(model_name):\n",
    "    if model_name == 'SVM':\n",
    "        return svm_fpr, svm_tpr\n",
    "    if model_name == 'DNN':\n",
    "        return false_positive_rate, true_positive_rate\n",
    "    if model_name == 'LR':\n",
    "        return lr_fpr, lr_tpr\n",
    "    if model_name == 'KNN':\n",
    "        return knn_fpr, knn_tpr\n",
    "    if model_name == 'RF':\n",
    "        return rf_fpr, rf_tpr"
   ]
  },
  {
   "cell_type": "code",
   "execution_count": null,
   "id": "dressed-finnish",
   "metadata": {},
   "outputs": [],
   "source": []
  }
 ],
 "metadata": {
  "kernelspec": {
   "display_name": "Python 3 (ipykernel)",
   "language": "python",
   "name": "python3"
  },
  "language_info": {
   "codemirror_mode": {
    "name": "ipython",
    "version": 3
   },
   "file_extension": ".py",
   "mimetype": "text/x-python",
   "name": "python",
   "nbconvert_exporter": "python",
   "pygments_lexer": "ipython3",
   "version": "3.7.0"
  }
 },
 "nbformat": 4,
 "nbformat_minor": 5
}
